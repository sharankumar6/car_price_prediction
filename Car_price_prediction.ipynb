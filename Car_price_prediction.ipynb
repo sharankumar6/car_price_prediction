{
 "cells": [
  {
   "cell_type": "code",
   "execution_count": 26,
   "id": "b2e6d21a",
   "metadata": {},
   "outputs": [],
   "source": [
    "import pandas as pd\n",
    "import numpy as np\n",
    "import seaborn as sns\n",
    "import matplotlib.pyplot as plt\n",
    "%matplotlib inline"
   ]
  },
  {
   "cell_type": "code",
   "execution_count": 27,
   "id": "bfb59e74",
   "metadata": {},
   "outputs": [
    {
     "data": {
      "text/html": [
       "<div>\n",
       "<style scoped>\n",
       "    .dataframe tbody tr th:only-of-type {\n",
       "        vertical-align: middle;\n",
       "    }\n",
       "\n",
       "    .dataframe tbody tr th {\n",
       "        vertical-align: top;\n",
       "    }\n",
       "\n",
       "    .dataframe thead th {\n",
       "        text-align: right;\n",
       "    }\n",
       "</style>\n",
       "<table border=\"1\" class=\"dataframe\">\n",
       "  <thead>\n",
       "    <tr style=\"text-align: right;\">\n",
       "      <th></th>\n",
       "      <th>name</th>\n",
       "      <th>company</th>\n",
       "      <th>year</th>\n",
       "      <th>Price</th>\n",
       "      <th>kms_driven</th>\n",
       "      <th>fuel_type</th>\n",
       "    </tr>\n",
       "  </thead>\n",
       "  <tbody>\n",
       "    <tr>\n",
       "      <th>0</th>\n",
       "      <td>Hyundai Santro Xing XO eRLX Euro III</td>\n",
       "      <td>Hyundai</td>\n",
       "      <td>2007</td>\n",
       "      <td>80,000</td>\n",
       "      <td>45,000 kms</td>\n",
       "      <td>Petrol</td>\n",
       "    </tr>\n",
       "    <tr>\n",
       "      <th>1</th>\n",
       "      <td>Mahindra Jeep CL550 MDI</td>\n",
       "      <td>Mahindra</td>\n",
       "      <td>2006</td>\n",
       "      <td>4,25,000</td>\n",
       "      <td>40 kms</td>\n",
       "      <td>Diesel</td>\n",
       "    </tr>\n",
       "    <tr>\n",
       "      <th>2</th>\n",
       "      <td>Maruti Suzuki Alto 800 Vxi</td>\n",
       "      <td>Maruti</td>\n",
       "      <td>2018</td>\n",
       "      <td>Ask For Price</td>\n",
       "      <td>22,000 kms</td>\n",
       "      <td>Petrol</td>\n",
       "    </tr>\n",
       "    <tr>\n",
       "      <th>3</th>\n",
       "      <td>Hyundai Grand i10 Magna 1.2 Kappa VTVT</td>\n",
       "      <td>Hyundai</td>\n",
       "      <td>2014</td>\n",
       "      <td>3,25,000</td>\n",
       "      <td>28,000 kms</td>\n",
       "      <td>Petrol</td>\n",
       "    </tr>\n",
       "    <tr>\n",
       "      <th>4</th>\n",
       "      <td>Ford EcoSport Titanium 1.5L TDCi</td>\n",
       "      <td>Ford</td>\n",
       "      <td>2014</td>\n",
       "      <td>5,75,000</td>\n",
       "      <td>36,000 kms</td>\n",
       "      <td>Diesel</td>\n",
       "    </tr>\n",
       "  </tbody>\n",
       "</table>\n",
       "</div>"
      ],
      "text/plain": [
       "                                     name   company  year          Price  \\\n",
       "0    Hyundai Santro Xing XO eRLX Euro III   Hyundai  2007         80,000   \n",
       "1                 Mahindra Jeep CL550 MDI  Mahindra  2006       4,25,000   \n",
       "2              Maruti Suzuki Alto 800 Vxi    Maruti  2018  Ask For Price   \n",
       "3  Hyundai Grand i10 Magna 1.2 Kappa VTVT   Hyundai  2014       3,25,000   \n",
       "4        Ford EcoSport Titanium 1.5L TDCi      Ford  2014       5,75,000   \n",
       "\n",
       "   kms_driven fuel_type  \n",
       "0  45,000 kms    Petrol  \n",
       "1      40 kms    Diesel  \n",
       "2  22,000 kms    Petrol  \n",
       "3  28,000 kms    Petrol  \n",
       "4  36,000 kms    Diesel  "
      ]
     },
     "execution_count": 27,
     "metadata": {},
     "output_type": "execute_result"
    }
   ],
   "source": [
    "df = pd.read_csv('quikr_car.csv')\n",
    "df.head()"
   ]
  },
  {
   "cell_type": "code",
   "execution_count": 28,
   "id": "31feb57e",
   "metadata": {},
   "outputs": [
    {
     "data": {
      "text/plain": [
       "(892, 6)"
      ]
     },
     "execution_count": 28,
     "metadata": {},
     "output_type": "execute_result"
    }
   ],
   "source": [
    "df.shape"
   ]
  },
  {
   "cell_type": "code",
   "execution_count": 29,
   "id": "1230b71c",
   "metadata": {},
   "outputs": [
    {
     "name": "stdout",
     "output_type": "stream",
     "text": [
      "<class 'pandas.core.frame.DataFrame'>\n",
      "RangeIndex: 892 entries, 0 to 891\n",
      "Data columns (total 6 columns):\n",
      " #   Column      Non-Null Count  Dtype \n",
      "---  ------      --------------  ----- \n",
      " 0   name        892 non-null    object\n",
      " 1   company     892 non-null    object\n",
      " 2   year        892 non-null    object\n",
      " 3   Price       892 non-null    object\n",
      " 4   kms_driven  840 non-null    object\n",
      " 5   fuel_type   837 non-null    object\n",
      "dtypes: object(6)\n",
      "memory usage: 41.9+ KB\n"
     ]
    }
   ],
   "source": [
    "df.info()"
   ]
  },
  {
   "cell_type": "markdown",
   "id": "34def921",
   "metadata": {},
   "source": [
    "# Quality of Raw Data\n",
    "1. names are pretty inconsistent\n",
    "2. names have company names attached to it\n",
    "3. some names are spam like 'Maruti Ertiga showroom condition with' and 'Well mentained Tata Sumo'\n",
    "4. company: many of the names are not of any company like 'Used', 'URJENT', and so on.\n",
    "5. year has many non-year values, and year is in object change it to integer\n",
    "6. Price has 'Ask for Price'\n",
    "7. Price has commas in its prices and is in object\n",
    "8. kms_driven has object values with kms at last. Remove kms \n",
    "9. It has nan values and two rows have 'Petrol' in them\n",
    "10. fuel_type has nan values"
   ]
  },
  {
   "cell_type": "code",
   "execution_count": 30,
   "id": "8d32345e",
   "metadata": {},
   "outputs": [
    {
     "data": {
      "text/plain": [
       "name           0\n",
       "company        0\n",
       "year           0\n",
       "Price          0\n",
       "kms_driven    52\n",
       "fuel_type     55\n",
       "dtype: int64"
      ]
     },
     "execution_count": 30,
     "metadata": {},
     "output_type": "execute_result"
    }
   ],
   "source": [
    "df.isnull().sum()"
   ]
  },
  {
   "cell_type": "code",
   "execution_count": 31,
   "id": "fd03db31",
   "metadata": {},
   "outputs": [
    {
     "name": "stdout",
     "output_type": "stream",
     "text": [
      "Unique values on name:\n",
      "['Hyundai Santro Xing XO eRLX Euro III' 'Mahindra Jeep CL550 MDI'\n",
      " 'Maruti Suzuki Alto 800 Vxi' 'Hyundai Grand i10 Magna 1.2 Kappa VTVT'\n",
      " 'Ford EcoSport Titanium 1.5L TDCi' 'Ford Figo' 'Hyundai Eon'\n",
      " 'Ford EcoSport Ambiente 1.5L TDCi' 'Maruti Suzuki Alto K10 VXi AMT'\n",
      " 'Skoda Fabia Classic 1.2 MPI' 'Maruti Suzuki Stingray VXi'\n",
      " 'Hyundai Elite i20 Magna 1.2' 'Mahindra Scorpio SLE BS IV' 'Audi A8'\n",
      " 'Audi Q7' 'Mahindra Scorpio S10' 'Maruti Suzuki Alto 800'\n",
      " 'Hyundai i20 Sportz 1.2' 'Maruti Suzuki Alto 800 Lx'\n",
      " 'Maruti Suzuki Vitara Brezza ZDi' 'Maruti Suzuki Alto LX'\n",
      " 'Mahindra Bolero DI' 'Maruti Suzuki Swift Dzire ZDi'\n",
      " 'Mahindra Scorpio S10 4WD' 'Maruti Suzuki Swift Vdi BSIII'\n",
      " 'Maruti Suzuki Wagon R VXi BS III' 'Maruti Suzuki Wagon R VXi Minor'\n",
      " 'Toyota Innova 2.0 G 8 STR BS IV' 'Renault Lodgy 85 PS RXL'\n",
      " 'Skoda Yeti Ambition 2.0 TDI CR 4x2' 'Maruti Suzuki Baleno Delta 1.2'\n",
      " 'Renault Duster 110 PS RxZ Diesel Plus' 'Renault Duster 85 PS RxE Diesel'\n",
      " 'Honda City 1.5 S MT' 'Maruti Suzuki Dzire' 'Honda Amaze'\n",
      " 'Honda Amaze 1.5 SX i DTEC' 'Honda City' 'Datsun Redi GO S'\n",
      " 'Maruti Suzuki SX4 ZXI MT' 'Mitsubishi Pajero Sport Limited Edition'\n",
      " 'Maruti Suzuki Swift VXi 1.2 ABS BS IV' 'Honda City ZX CVT'\n",
      " 'Maruti Suzuki Wagon R LX BS IV' 'Tata Indigo eCS LS CR4 BS IV'\n",
      " 'Volkswagen Polo Highline Exquisite P' 'I want to sell my car Tata Zest'\n",
      " 'Chevrolet Spark LS 1.0' 'Renault Duster 110PS Diesel RxZ'\n",
      " 'Mini Cooper S 1.6' 'Skoda Fabia 1.2L Diesel Ambiente' 'Renault Duster'\n",
      " 'Mahindra Scorpio S4' 'Mahindra Scorpio VLX 2WD BS IV'\n",
      " 'Mahindra Quanto C8' 'Ford EcoSport' 'Honda Brio'\n",
      " 'Volkswagen Vento Highline Plus 1.5 Diesel AT' 'Hyundai i20 Magna'\n",
      " 'Toyota Corolla Altis Diesel D4DG' 'Hyundai Verna Transform SX VTVT'\n",
      " 'Toyota Corolla Altis Petrol Ltd' 'Honda City 1.5 EXi New'\n",
      " 'Skoda Fabia 1.2L Diesel Elegance' 'BMW 3 Series 320i'\n",
      " 'Maruti Suzuki A Star Lxi' 'Toyota Etios GD'\n",
      " 'Ford Figo Diesel EXI Option' 'Maruti Suzuki Swift Dzire VXi 1.2 BS IV'\n",
      " 'Chevrolet Beat LT Diesel' 'BMW 7 Series 740Li Sedan'\n",
      " 'Mahindra XUV500 W8 AWD 2013' 'Hyundai i10 Magna 1.2'\n",
      " 'Hyundai Verna Fluidic New' 'Maruti Suzuki Swift VXi 1.2 BS IV'\n",
      " 'Maruti Suzuki Ertiga ZXI Plus' 'Maruti Suzuki Ertiga Vxi'\n",
      " 'Maruti Suzuki Ertiga VDi' 'Maruti Suzuki Alto LXi BS III'\n",
      " 'Hyundai Grand i10 Asta 1.1 CRDi' 'Honda Amaze 1.2 S i VTEC'\n",
      " 'Hyundai i20 Asta 1.4 CRDI 6 Speed' 'Ford Figo Diesel EXI'\n",
      " 'Maruti Suzuki Eeco 5 STR WITH AC HTR' 'Maruti Suzuki Ertiga ZXi'\n",
      " 'Maruti Suzuki Esteem LXi BS III' 'Maruti Suzuki Ritz VXI'\n",
      " 'Maruti Suzuki Ritz LDi' 'Maruti Suzuki Dzire VDI' 'Toyota Etios Liva G'\n",
      " 'Hyundai i20 Sportz 1.4 CRDI' 'Chevrolet Spark' 'Nissan Micra XV'\n",
      " 'Maruti Suzuki Swift' 'Honda Amaze 1.5 S i DTEC' 'Chevrolet Beat'\n",
      " 'Toyota Corolla' 'Honda City 1.5 V MT' 'Ford EcoSport Trend 1.5L TDCi'\n",
      " 'Hyundai i20 Asta 1.2' 'Tata Indica V2 eLS' 'Maruti Suzuki Alto 800 Lxi'\n",
      " 'Hindustan Motors Ambassador' 'Toyota Corolla Altis 1.8 GL'\n",
      " 'Toyota Corolla Altis 1.8 J' 'Toyota Innova 2.5 GX BS IV 7 STR'\n",
      " 'Volkswagen Jetta Highline TDI AT' 'Volkswagen Polo Comfortline 1.2L P'\n",
      " 'Volkswagen Polo' 'Mahindra Scorpio' 'Nissan Sunny' 'Hyundai Elite i20'\n",
      " 'Renault Kwid' 'Mahindra Scorpio VLX Airbag' 'Chevrolet Spark LT 1.0'\n",
      " 'Datsun Redi GO T O' 'Maruti Suzuki Swift RS VDI'\n",
      " 'Fiat Punto Emotion 1.2' 'Hyundai i10 Sportz 1.2'\n",
      " 'Chevrolet Beat LT Opt Diesel' 'Chevrolet Beat LS Diesel'\n",
      " 'Tata Indigo CS' 'Maruti Suzuki Swift VDi' 'Hyundai Eon Era Plus'\n",
      " 'Mahindra XUV500' 'Ford Fiesta' 'Maruti Suzuki Wagon R' 'Hyundai i20'\n",
      " 'Tata Indigo eCS LX TDI BS III' 'Hyundai Fluidic Verna 1.6 CRDi SX'\n",
      " 'Commercial , DZire LDI, 2016, for sale' 'Fiat Petra ELX 1.2 PS'\n",
      " 'Hyundai Santro Xing XS' 'Maruti Suzuki Ciaz VXi Plus'\n",
      " 'Maruti Suzuki Zen VX' 'Hyundai Creta 1.6 SX Plus Petrol'\n",
      " 'Tata indigo ecs LX, 201' 'Mahindra Scorpio SLX'\n",
      " 'Toyota Innova 2.5 G BS III 8 STR' 'Maruti Suzuki Wagon R LXI BS IV'\n",
      " 'Tata Nano Cx BSIV' 'Maruti Suzuki Alto Std BS IV'\n",
      " 'Maruti Suzuki Wagon R LXi BS III' 'Maruti Suzuki Swift VXI BSIII'\n",
      " 'Tata Sumo Victa EX 10 by 7 Str BSIII' 'MARUTI SUZUKI DESI'\n",
      " 'Volkswagen Passat Diesel Comfortline AT'\n",
      " 'Renault Scala RxL Diesel Travelogue'\n",
      " 'Hyundai Grand i10 Sportz O 1.2 Kappa VTVT' 'Hyundai i20 Active 1.2 SX'\n",
      " 'Mahindra Xylo E4' 'Mahindra Jeep MM 550 XDB' 'Mahindra Bolero SLE BS IV'\n",
      " 'Force Motors Force One LX ABS 7 STR' 'Maruti Suzuki SX4' 'Toyota Etios'\n",
      " 'Honda City ZX VTEC' 'Maruti Suzuki Wagon R LX BS III'\n",
      " 'Honda City VX O MT Diesel' 'Mahindra Thar CRDe 4x4 AC'\n",
      " 'Audi A4 1.8 TFSI Multitronic Premium Plus'\n",
      " 'Mercedes Benz GLA Class 200 CDI Sport' 'Land Rover Freelander 2 SE'\n",
      " 'Renault Kwid RXT' 'Tata Aria Pleasure 4X2'\n",
      " 'Mercedes Benz B Class B180 Sports' 'Datsun GO T O' 'Honda Jazz VX MT'\n",
      " 'Hyundai i20 Active 1.4L SX O' 'Mini Cooper S'\n",
      " 'Maruti Suzuki Ciaz ZXI Plus' 'Chevrolet Tavera Neo' 'Hyundai Eon Sportz'\n",
      " 'Tata Sumo Gold Select Variant' 'Maruti Suzuki Wagon R 1.0'\n",
      " 'Maruti Suzuki Esteem VXi BS III' 'Chevrolet Enjoy 1.4 LS 8 STR'\n",
      " 'Maruti Suzuki Wagon R 1.0 VXi' 'Nissan Terrano XL D Plus'\n",
      " 'Renault Duster 85 PS RxL Diesel' 'Maruti Suzuki Dzire ZXI'\n",
      " 'Renault Kwid RXT Opt' 'Maruti Suzuki Maruti 800 Std'\n",
      " 'Renault Kwid 1.0 RXT AMT' 'Renault Scala RxL Diesel'\n",
      " 'Hyundai Grand i10 Asta 1.2 Kappa VTVT O' 'Chevrolet Beat LS Petrol'\n",
      " 'Hyundai Accent GLX' 'Yama' 'Maruti Suzuki Swift LDi'\n",
      " 'Mahindra TUV300 T4 Plus' 'Tata Indica V2 Xeta e GLE'\n",
      " 'Tata Indigo CS LS DiCOR' 'Mahindra Scorpio VLX Special Edition BS III'\n",
      " 'Tata Indica eV2 LS' 'Honda Accord' 'Ford EcoSport Titanium 1.5 TDCi'\n",
      " 'Maruti Suzuki Ertiga' 'Mahindra Scorpio 2.6 CRDe' 'Honda Mobilio'\n",
      " 'Toyota Corolla Altis' 'Skoda Laura' 'Hyundai Verna Fluidic'\n",
      " 'Maruti Suzuki Vitara Brezza' 'Tata Manza Aura Quadrajet'\n",
      " 'Chevrolet Sail UVA Petrol LT ABS' 'Hyundai Verna Fluidic 1.6 VTVT SX'\n",
      " 'Audi A4 2.0 TDI 177bhp Premium' 'Hyundai Elantra SX'\n",
      " 'Mahindra Scorpio VLX 4WD Airbag' 'Mahindra KUV100 K8 D 6 STR'\n",
      " 'Hyundai Grand i10' 'Hyundai i10' 'Hyundai i20 Active' 'Datsun Redi GO'\n",
      " 'Toyota Etios Liva' 'Hyundai Accent' 'Hyundai Verna' 'Toyota Fortuner'\n",
      " 'Hyundai i10 Sportz' 'Mahindra Bolero Power Plus SLE' 'selling car Ta'\n",
      " 'Honda City 1.5 V MT Exclusive' 'Chevrolet Spark LT 1.0 Airbag'\n",
      " 'Tata Indigo eCS VX CR4 BS IV' 'Tata Zest 90'\n",
      " 'Skoda Rapid Elegance 1.6 TDI CR MT' 'Tata Vista Quadrajet VX'\n",
      " 'Maruti Suzuki Alto K10 VXi AT' 'Maruti Suzuki Zen LXi BS III'\n",
      " 'Maruti Suzuki Swift Dzire Tour LDi' 'Honda City ZX EXi'\n",
      " 'Chevrolet Beat Diesel' 'Maruti Suzuki Swift Dzire car'\n",
      " 'Hyundai Verna 1.4 VTVT' 'Toyota Innova 2.5 E MS 7 STR BS IV'\n",
      " 'Maruti Suzuki Maruti 800 Std – Befo' 'Hyundai Elite i20 Asta 1.4 CRDI'\n",
      " 'Maruti Suzuki Swift Dzire Tour (Gat'\n",
      " 'Maruti Suzuki Versa DX2 8 SEATER BSIII' 'Tata Indigo LX TDI BS III'\n",
      " 'Volkswagen Vento Konekt Diesel Highline'\n",
      " 'Mercedes Benz C Class 200 CDI Classic' 'URJE' 'Hyundai Santro Xing GLS'\n",
      " 'Maruti Suzuki Omni Limited Edition'\n",
      " 'Hyundai Sonata Transform 2.4 GDi MT' 'Hyundai Elite i20 Sportz 1.2'\n",
      " 'Honda Jazz S MT' 'Hyundai Grand i10 Sportz 1.2 Kappa VTVT'\n",
      " 'Maruti Suzuki Zen LXi BSII' 'Mahindra Scorpio W Turbo 2.6DX 9 Seater'\n",
      " 'Swift Dzire Tour 27 Dec 2016 Regis' 'Maruti Suzuki Alto K10 VXi'\n",
      " 'Hyundai Grand i10 Asta 1.2 Kappa VTVT' 'Mahindra XUV500 W8'\n",
      " 'Hyundai i20 Magna O 1.2' 'Renault Duster 85 PS RxL Explore LE'\n",
      " 'Honda Brio V MT' 'Mahindra TUV300 T8' 'Nissan X Trail Select Variant'\n",
      " 'Ford Ikon 1.3 CLXi NXt Finesse' 'Toyota Fortuner 3.0 4x4 MT'\n",
      " 'Tata Manza ELAN Quadrajet' 'Tata zest x' 'Mahindra xyl'\n",
      " 'Mercedes Benz A Class A 180 Sport Petrol' 'Tata Indigo LS'\n",
      " 'Hyundai i20 Magna 1.2' 'Used Commercial Maruti Omn'\n",
      " 'Honda Amaze 1.5 E i DTEC' 'Hyundai Verna 1.6 EX VTVT'\n",
      " 'BMW 5 Series 520d Sedan' 'Skoda Superb 1.8 TFSI AT'\n",
      " 'Audi Q3 2.0 TDI quattro Premium' 'Mahindra Bolero DI BSII'\n",
      " 'Maruti Suzuki Zen Estilo LXI Green CNG'\n",
      " 'Ford Figo Duratorq Diesel Titanium 1.4'\n",
      " 'Maruti Suzuki Wagon R VXI BS IV' 'Mahindra Logan Diesel 1.5 DLS'\n",
      " 'Tata Nano GenX XMA' 'Honda City SV' 'Ford Figo Petrol LXI'\n",
      " 'Hyundai i10 Magna 1.2 Kappa2' 'Toyota Corolla H2'\n",
      " 'Maruti Suzuki Swift Dzire Tour VXi' 'Tata Indigo CS eLS BS IV'\n",
      " 'Hyundai Xcent Base 1.1 CRDi' 'Hyundai Accent Executive Edition'\n",
      " 'Tata Zest XE 75 PS Diesel' 'Maruti Suzuki Dzire LDI'\n",
      " 'Tata Sumo Gold LX BS IV' 'Toyota Corolla Altis GL Petrol'\n",
      " 'Maruti Suzuki Eeco 7 STR' 'Toyota Fortuner 3.0 4x2 MT'\n",
      " 'Mahindra XUV500 W6' 'Tata Tigor Revotron XZ' 'Maruti Suzuki 800'\n",
      " 'Honda Mobilio S i DTEC' 'Hyundai Verna 1.6 CRDI E'\n",
      " 'Maruti Suzuki Omni Select Variant' 'Tata Indica' 'Hyundai Santro Xing'\n",
      " 'Maruti Suzuki Zen Estilo' 'Honda Brio VX AT'\n",
      " 'Maruti Suzuki Wagon R Select Variant' 'Tata Nano Lx BSIV'\n",
      " 'Jaguar XE XE Portfolio' 'Hyundai Xcent S 1.2' 'Hyundai Eon Magna Plus'\n",
      " 'Maruti Suzuki Ritz GENUS VXI'\n",
      " 'Hyundai Grand i10 Magna AT 1.2 Kappa VTVT' 'Hyundai Eon D Lite Plus'\n",
      " 'Honda Amaze 1.2 VX i VTEC' 'Maruti Suzuki Estilo VXi ABS BS IV'\n",
      " 'Maruti Suzuki Vitara Brezza LDi O' 'Toyota Innova 2.0 V'\n",
      " 'Hyundai Creta 1.6 SX Plus Petrol AT' 'Mahindra Scorpio Vlx BSIV'\n",
      " 'Mitsubishi Lancer 1.8 LXi' 'Maruti Suzuki Maruti 800 AC'\n",
      " 'Maruti Suzuki Alto 800 LXI CNG O' 'Ford Fiesta SXi 1.6 ABS'\n",
      " 'Maruti Suzuki Ritz VDi' 'Maruti Suzuki Estilo LX BS IV'\n",
      " 'Audi A6 2.0 TDI Premium' 'Maruti Suzuki Alto'\n",
      " 'Maruti Suzuki Baleno Sigma 1.2' 'Hyundai Verna 1.6 SX VTVT AT'\n",
      " 'Maruti Suzuki Swift GLAM' 'Hyundai Getz Prime 1.3 GVS' 'Hyundai Santro'\n",
      " 'Hyundai Getz Prime 1.3 GLX' 'Chevrolet Beat PS Diesel'\n",
      " 'Ford EcoSport Trend 1.5 Ti VCT' 'Tata Indica V2 DLG'\n",
      " 'BMW X1 xDrive20d xLine' 'Honda City 1.5 V AT' 'Tata Nano'\n",
      " 'Chevrolet Cruze LTZ AT' 'Hyun' 'Maruti Suzuki Swift Dzire VDi'\n",
      " 'Mahindra XUV500 W10' 'Maruti Suzuki Alto K10 LXi CNG'\n",
      " 'Hyundai Accent GLE' 'Force Motors One SUV' 'Datsun Go Plus T O'\n",
      " 'Chevrolet Spark 1.0 LT' 'Toyota Etios Liva GD'\n",
      " 'Renault Duster 85PS Diesel RxL Optional with Nav' 'Chevrolet Enjoy'\n",
      " 'BMW 5 Series 530i' 'Chevrolet Cruze LTZ'\n",
      " 'Jeep Wrangler Unlimited 4x4 Diesel' 'Hyundai Verna VGT CRDi SX ABS'\n",
      " 'Maruti Suzuki Omni' 'Maruti Suzuki Celerio VDi'\n",
      " 'Tata Zest Quadrajet 1.3' 'Tata Indigo CS eLX BS IV' 'Hyundai i10 Era'\n",
      " 'Tata Indigo eCS LX CR4 BS IV' 'Tata Indigo Marina LS'\n",
      " 'Commercial Chevrolet Sail Hatchback ca' 'Hyundai Xcent SX 1.2'\n",
      " 'Tata Nano LX Special Edition' 'Commercial Car Ta'\n",
      " 'Renault Duster 110 PS RxZ Diesel' 'Maruti Suzuki Wagon R AX BSIV'\n",
      " 'Maruti Suzuki Alto K10 New' 'tata Indica' 'Mahindra Xylo E8'\n",
      " 'Tata Manza Aqua Quadrajet' 'Used bt new conditions ta'\n",
      " 'Renault Kwid 1.0' 'Sale tata' 'Tata Venture EX 8 STR'\n",
      " 'Maruti Suzuki Swift Dzire Tour LXi' 'Maruti Suzuki Alto LX BSII'\n",
      " 'Skoda Octavia Classic 1.9 TDI MT' 'Maruti Suzuki Omni LPG BS IV'\n",
      " 'Tata Sumo Gold EX BS IV' 'Tata indigo 2017 top model..'\n",
      " 'Hyundai Verna 1.6 CRDI SX' 'Mahindra Scorpio SLX 2.6 Turbo 8 Str'\n",
      " 'Ford Ikon 1.6 Nxt' 'Tata indigo' 'Toyota Innova 2.5 V 7 STR'\n",
      " 'Nissan Sunny XL' 'Maruti Suzuki Swift VDi BS IV'\n",
      " 'very good condition tata bolts are av' 'Toyota Innova 2.0 G4'\n",
      " 'Sale Hyundai xcent commerc' 'Maruti Suzuki Swift VDi ABS'\n",
      " 'Hyundai Elite i20 Asta 1.2' 'Volkswagen Polo Trendline 1.5L D'\n",
      " 'Toyota Etios Liva Diesel' 'Maruti Suzuki Ciaz ZXi Plus RS'\n",
      " 'Hyundai Elantra 1.8 S' 'Ford EcoSport Trend 1.5L Ti VCT'\n",
      " 'Jaguar XF 2.2 Diesel Luxury' 'Audi Q5 2.0 TDI quattro Premium Plus'\n",
      " 'BMW 3 Series 320d Sedan' 'Maruti Suzuki Swift ZXi 1.2 BS IV'\n",
      " 'BMW X1 sDrive20d' 'Maruti Suzuki S Cross Sigma 1.3'\n",
      " 'Maruti Suzuki Ertiga LDi' 'Volkswagen Vento Comfortline Petrol'\n",
      " 'Mahindra KUV100' 'Maruti Suzuki Swift Dzire Tour VDi'\n",
      " 'Mahindra Scorpio 2.6 SLX' 'Maruti Suzuki Omni 8 STR BS III'\n",
      " 'Volkswagen Jetta Comfortline 1.9 TDI AT' 'Volvo S80 Summum D4'\n",
      " 'Toyota Corolla Altis VL AT Petrol' 'Mitsubishi Pajero Sport 2.5 AT'\n",
      " 'Chevrolet Beat LT Petrol' 'BMW X1'\n",
      " 'Mercedes Benz C Class C 220 CDI Avantgarde'\n",
      " 'Volkswagen Vento Comfortline Diesel' 'Tata Indigo CS GLS'\n",
      " 'Ford Figo Petrol Titanium' 'Honda City ZX GXi'\n",
      " 'Maruti Suzuki Wagon R Duo Lxi' 'Maruti Suzuki Zen LX BSII'\n",
      " 'Renault Duster RxL Petrol' 'Maruti Suzuki Baleno Zeta 1.2'\n",
      " 'Honda WR V S MT Petrol' 'Renault Duster 110 PS RxL Diesel'\n",
      " 'Mahindra Scorpio LX BS III' 'Maruti Suzuki SX4 Celebration Diesel'\n",
      " 'Audi A3 Cabriolet 40 TFSI' 'I want to sell my commercial car due t'\n",
      " 'Hyundai Santro AE GLS Audio' 'i want sale my car.no emi....uber atta'\n",
      " 'Tata ZEST 6 month old' 'Mahindra Xylo D2 BS IV' 'Hyundai Getz GLE'\n",
      " 'Hyundai Creta 1.6 SX' 'Hyundai Santro Xing XL AT eRLX Euro III'\n",
      " 'Hyundai Santro Xing XL eRLX Euro III' 'Tata Indica V2 DLS BS III'\n",
      " 'Honda City 1.5 E MT' 'Nissan Micra XL' 'Honda City 1.5 S Inspire'\n",
      " 'Tata Indica eV2 eXeta eGLX' 'Maruti Suzuki Omni E 8 STR BS IV'\n",
      " 'MARUTI SUZUKI ERTIGA F' 'Hyundai Verna 1.6 CRDI SX Plus AT'\n",
      " 'Chevrolet Tavera LS B3 10 Seats BSII' 'Tata Tiago Revotron XM'\n",
      " 'Tata Tiago Revotorq XZ' 'Tata Nexon' 'Tata'\n",
      " 'Hindustan Motors Ambassador Classic Mark 4 – Befo'\n",
      " 'Ford Fusion 1.4 TDCi Diesel' 'Fiat Linea Emotion 1.4 L T Jet Petrol'\n",
      " 'Ford Ikon 1.3 Flair Josh 100' 'Tata Indica V2 LS' 'Mahindra Xylo D2'\n",
      " 'Hyundai Eon Magna' 'Tata Sumo Grande MKII GX'\n",
      " 'Volkswagen Polo Highline1.2L P' 'Tata Tiago Revotron XZ'\n",
      " 'Tata Indigo eCS' '2012 Tata Sumo Gold f' 'Mahindra Xylo E8 BS IV'\n",
      " 'Well mentained Tata Sumo' 'all paper updated tata indica v2 and u'\n",
      " 'Maruti Ertiga showroom condition with'\n",
      " '7 SEATER MAHINDRA BOLERO IN VERY GOOD' '9 SEATER MAHINDRA BOL'\n",
      " 'scratch less Tata I' 'Maruti Suzuki swift dzire for sale in'\n",
      " 'Commercial Chevrolet beat for sale in' 'urgent sell my Mahindra qu'\n",
      " 'Tata Sumo Gold FX BSIII' 'sell my car Maruti Suzuki Swif'\n",
      " 'Maruti Suzuki Swift Dzire good car fo' 'Hyunda'\n",
      " 'Commercial Maruti Suzuki Alto Lxi 800' 'urgent sale Ta'\n",
      " 'Maruti Suzuki Alto vxi t' 'tata' 'TATA INDI' 'Hyundai Creta'\n",
      " 'Tata Bolt XM Petrol' 'Hyundai Venue' 'Maruti Suzuki Ritz'\n",
      " 'Renault Lodgy' 'Hyundai i20 Asta' 'Maruti Suzuki Swift Select Variant'\n",
      " 'Tata Indica V2 DLX BS III' 'Mahindra Scorpio VLX 2.2 mHawk Airbag BSIV'\n",
      " 'Toyota Innova 2.5 E 8 STR' 'Mahindra KUV100 K8 6 STR' 'Datsun Go Plus'\n",
      " 'Ford Endeavor 4x4 Thunder Plus' 'Tata Indica V2'\n",
      " 'Hyundai Santro Xing GL' 'Toyota Innova 2.5 Z Diesel 7 Seater'\n",
      " 'Any type car avaiabel hare...comercica' 'Maruti Suzuki Alto AX'\n",
      " 'Mahindra Logan' 'Maruti Suzuki 800 Std BS III' 'Chevrolet Sail 1.2 LS'\n",
      " 'Volkswagen Vento Highline Plus 1.5 Diesel' 'Tata Manza'\n",
      " 'Toyota Innova 2.0 G1 Petrol 8seater' 'Toyota Etios G' 'Toyota Qualis'\n",
      " 'Mahindra Quanto C4' 'Maruti Suzuki Swift Dzire'\n",
      " 'Hyundai i20 Select Variant' 'Honda City VX Petrol' 'Hyundai Getz'\n",
      " 'Mercedes Benz C Class 200 K MT' 'Skoda Fabia'\n",
      " 'Maruti Suzuki Alto 800 Select Variant' 'Maruti Suzuki Ritz VXI ABS'\n",
      " 'tata zest 2017 f' 'Tata Indica V2 DLE BS III' 'Ta' 'Tata Zest XM Diesel'\n",
      " 'Honda Amaze 1.2 E i VTEC' 'Chevrolet Sail 1.2 LT ABS']\n",
      "\n",
      "\n",
      "#############################################################################\n",
      "Unique values on company:\n",
      "['Hyundai' 'Mahindra' 'Maruti' 'Ford' 'Skoda' 'Audi' 'Toyota' 'Renault'\n",
      " 'Honda' 'Datsun' 'Mitsubishi' 'Tata' 'Volkswagen' 'I' 'Chevrolet' 'Mini'\n",
      " 'BMW' 'Nissan' 'Hindustan' 'Fiat' 'Commercial' 'MARUTI' 'Force'\n",
      " 'Mercedes' 'Land' 'Yamaha' 'selling' 'URJENT' 'Swift' 'Used' 'Jaguar'\n",
      " 'Jeep' 'tata' 'Sale' 'very' 'Volvo' 'i' '2012' 'Well' 'all' '7' '9'\n",
      " 'scratch' 'urgent' 'sell' 'TATA' 'Any' 'Tara']\n",
      "\n",
      "\n",
      "#############################################################################\n",
      "Unique values on year:\n",
      "['2007' '2006' '2018' '2014' '2015' '2012' '2013' '2016' '2010' '2017'\n",
      " '2008' '2011' '2019' '2009' '2005' '2000' '...' '150k' 'TOUR' '2003'\n",
      " 'r 15' '2004' 'Zest' '/-Rs' 'sale' '1995' 'ara)' '2002' 'SELL' '2001'\n",
      " 'tion' 'odel' '2 bs' 'arry' 'Eon' 'o...' 'ture' 'emi' 'car' 'able' 'no.'\n",
      " 'd...' 'SALE' 'digo' 'sell' 'd Ex' 'n...' 'e...' 'D...' ', Ac' 'go .'\n",
      " 'k...' 'o c4' 'zire' 'cent' 'Sumo' 'cab' 't xe' 'EV2' 'r...' 'zest']\n",
      "\n",
      "\n",
      "#############################################################################\n",
      "Unique values on Price:\n",
      "['80,000' '4,25,000' 'Ask For Price' '3,25,000' '5,75,000' '1,75,000'\n",
      " '1,90,000' '8,30,000' '2,50,000' '1,82,000' '3,15,000' '4,15,000'\n",
      " '3,20,000' '10,00,000' '5,00,000' '3,50,000' '1,60,000' '3,10,000'\n",
      " '75,000' '1,00,000' '2,90,000' '95,000' '1,80,000' '3,85,000' '1,05,000'\n",
      " '6,50,000' '6,89,999' '4,48,000' '5,49,000' '5,01,000' '4,89,999'\n",
      " '2,80,000' '3,49,999' '2,84,999' '3,45,000' '4,99,999' '2,35,000'\n",
      " '2,49,999' '14,75,000' '3,95,000' '2,20,000' '1,70,000' '85,000'\n",
      " '2,00,000' '5,70,000' '1,10,000' '4,48,999' '18,91,111' '1,59,500'\n",
      " '3,44,999' '4,49,999' '8,65,000' '6,99,000' '3,75,000' '2,24,999'\n",
      " '12,00,000' '1,95,000' '3,51,000' '2,40,000' '90,000' '1,55,000'\n",
      " '6,00,000' '1,89,500' '2,10,000' '3,90,000' '1,35,000' '16,00,000'\n",
      " '7,01,000' '2,65,000' '5,25,000' '3,72,000' '6,35,000' '5,50,000'\n",
      " '4,85,000' '3,29,500' '2,51,111' '5,69,999' '69,999' '2,99,999'\n",
      " '3,99,999' '4,50,000' '2,70,000' '1,58,400' '1,79,000' '1,25,000'\n",
      " '2,99,000' '1,50,000' '2,75,000' '2,85,000' '3,40,000' '70,000'\n",
      " '2,89,999' '8,49,999' '7,49,999' '2,74,999' '9,84,999' '5,99,999'\n",
      " '2,44,999' '4,74,999' '2,45,000' '1,69,500' '3,70,000' '1,68,000'\n",
      " '1,45,000' '98,500' '2,09,000' '1,85,000' '9,00,000' '6,99,999'\n",
      " '1,99,999' '5,44,999' '1,99,000' '5,40,000' '49,000' '7,00,000' '55,000'\n",
      " '8,95,000' '3,55,000' '5,65,000' '3,65,000' '40,000' '4,00,000'\n",
      " '3,30,000' '5,80,000' '3,79,000' '2,19,000' '5,19,000' '7,30,000'\n",
      " '20,00,000' '21,00,000' '14,00,000' '3,11,000' '8,55,000' '5,35,000'\n",
      " '1,78,000' '3,00,000' '2,55,000' '5,49,999' '3,80,000' '57,000'\n",
      " '4,10,000' '2,25,000' '1,20,000' '59,000' '5,99,000' '6,75,000' '72,500'\n",
      " '6,10,000' '2,30,000' '5,20,000' '5,24,999' '4,24,999' '6,44,999'\n",
      " '5,84,999' '7,99,999' '4,44,999' '6,49,999' '9,44,999' '5,74,999'\n",
      " '3,74,999' '1,30,000' '4,01,000' '13,50,000' '1,74,999' '2,39,999'\n",
      " '99,999' '3,24,999' '10,74,999' '11,30,000' '1,49,000' '7,70,000'\n",
      " '30,000' '3,35,000' '3,99,000' '65,000' '1,69,999' '1,65,000' '5,60,000'\n",
      " '9,50,000' '7,15,000' '45,000' '9,40,000' '1,55,555' '15,00,000'\n",
      " '4,95,000' '8,00,000' '12,99,000' '5,30,000' '14,99,000' '32,000'\n",
      " '4,05,000' '7,60,000' '7,50,000' '4,19,000' '1,40,000' '15,40,000'\n",
      " '1,23,000' '4,98,000' '4,80,000' '4,88,000' '15,25,000' '5,48,900'\n",
      " '7,25,000' '99,000' '52,000' '28,00,000' '4,99,000' '3,81,000' '2,78,000'\n",
      " '6,90,000' '2,60,000' '90,001' '1,15,000' '15,99,000' '1,59,000' '51,999'\n",
      " '2,15,000' '35,000' '11,50,000' '2,69,000' '60,000' '4,30,000'\n",
      " '85,00,003' '4,01,919' '4,90,000' '4,24,000' '2,05,000' '5,49,900'\n",
      " '3,71,500' '4,35,000' '1,89,700' '3,89,700' '3,60,000' '2,95,000'\n",
      " '1,14,990' '10,65,000' '4,70,000' '48,000' '1,88,000' '4,65,000'\n",
      " '1,79,999' '21,90,000' '23,90,000' '10,75,000' '4,75,000' '10,25,000'\n",
      " '6,15,000' '19,00,000' '14,90,000' '15,10,000' '18,50,000' '7,90,000'\n",
      " '17,25,000' '12,25,000' '68,000' '9,70,000' '31,00,000' '8,99,000'\n",
      " '88,000' '53,000' '5,68,500' '71,000' '5,90,000' '7,95,000' '42,000'\n",
      " '1,89,000' '1,62,000' '35,999' '29,00,000' '39,999' '50,500' '5,10,000'\n",
      " '8,60,000' '5,00,001']\n",
      "\n",
      "\n",
      "#############################################################################\n",
      "Unique values on kms_driven:\n",
      "['45,000 kms' '40 kms' '22,000 kms' '28,000 kms' '36,000 kms' '59,000 kms'\n",
      " '41,000 kms' '25,000 kms' '24,530 kms' '60,000 kms' '30,000 kms'\n",
      " '32,000 kms' '48,660 kms' '4,000 kms' '16,934 kms' '43,000 kms'\n",
      " '35,550 kms' '39,522 kms' '39,000 kms' '55,000 kms' '72,000 kms'\n",
      " '15,975 kms' '70,000 kms' '23,452 kms' '35,522 kms' '48,508 kms'\n",
      " '15,487 kms' '82,000 kms' '20,000 kms' '68,000 kms' '38,000 kms'\n",
      " '27,000 kms' '33,000 kms' '46,000 kms' '16,000 kms' '47,000 kms'\n",
      " '35,000 kms' '30,874 kms' '15,000 kms' '29,685 kms' '1,30,000 kms'\n",
      " '19,000 kms' nan '54,000 kms' '13,000 kms' '38,200 kms' '50,000 kms'\n",
      " '13,500 kms' '3,600 kms' '45,863 kms' '60,500 kms' '12,500 kms'\n",
      " '18,000 kms' '13,349 kms' '29,000 kms' '44,000 kms' '42,000 kms'\n",
      " '14,000 kms' '49,000 kms' '36,200 kms' '51,000 kms' '1,04,000 kms'\n",
      " '33,333 kms' '33,600 kms' '5,600 kms' '7,500 kms' '26,000 kms'\n",
      " '24,330 kms' '65,480 kms' '28,028 kms' '2,00,000 kms' '99,000 kms'\n",
      " '2,800 kms' '21,000 kms' '11,000 kms' '66,000 kms' '3,000 kms'\n",
      " '7,000 kms' '38,500 kms' '37,200 kms' '43,200 kms' '24,800 kms'\n",
      " '45,872 kms' '40,000 kms' '11,400 kms' '97,200 kms' '52,000 kms'\n",
      " '31,000 kms' '1,75,430 kms' '37,000 kms' '65,000 kms' '3,350 kms'\n",
      " '75,000 kms' '62,000 kms' '73,000 kms' '2,200 kms' '54,870 kms'\n",
      " '34,580 kms' '97,000 kms' '60 kms' '80,200 kms' '3,200 kms' '0,000 kms'\n",
      " '5,000 kms' '588 kms' '71,200 kms' '1,75,400 kms' '9,300 kms'\n",
      " '56,758 kms' '10,000 kms' '56,450 kms' '56,000 kms' '32,700 kms'\n",
      " '9,000 kms' '73 kms' '1,60,000 kms' '84,000 kms' '58,559 kms'\n",
      " '57,000 kms' '1,70,000 kms' '80,000 kms' '6,821 kms' '23,000 kms'\n",
      " '34,000 kms' '1,800 kms' '4,00,000 kms' '48,000 kms' '90,000 kms'\n",
      " '12,000 kms' '69,900 kms' '1,66,000 kms' '122 kms' '0 kms' '24,000 kms'\n",
      " '36,469 kms' '7,800 kms' '24,695 kms' '15,141 kms' '59,910 kms'\n",
      " '1,00,000 kms' '4,500 kms' '1,29,000 kms' '300 kms' '1,31,000 kms'\n",
      " '1,11,111 kms' '59,466 kms' '25,500 kms' '44,005 kms' '2,110 kms'\n",
      " '43,222 kms' '1,00,200 kms' '65 kms' '1,40,000 kms' '1,03,553 kms'\n",
      " '58,000 kms' '1,20,000 kms' '49,800 kms' '100 kms' '81,876 kms'\n",
      " '6,020 kms' '55,700 kms' '18,500 kms' '1,80,000 kms' '53,000 kms'\n",
      " '35,500 kms' '22,134 kms' '1,000 kms' '8,500 kms' '87,000 kms'\n",
      " '6,000 kms' '15,574 kms' '8,000 kms' '55,800 kms' '56,400 kms'\n",
      " '72,160 kms' '11,500 kms' '1,33,000 kms' '2,000 kms' '88,000 kms'\n",
      " '65,422 kms' '1,17,000 kms' '1,50,000 kms' '10,750 kms' '6,800 kms'\n",
      " '5 kms' '9,800 kms' '57,923 kms' '30,201 kms' '6,200 kms' '37,518 kms'\n",
      " '24,652 kms' '383 kms' '95,000 kms' '3,528 kms' '52,500 kms' '47,900 kms'\n",
      " '52,800 kms' '1,95,000 kms' '48,008 kms' '48,247 kms' '9,400 kms'\n",
      " '64,000 kms' '2,137 kms' '10,544 kms' '49,500 kms' '1,47,000 kms'\n",
      " '90,001 kms' '48,006 kms' '74,000 kms' '85,000 kms' '29,500 kms'\n",
      " '39,700 kms' '67,000 kms' '19,336 kms' '60,105 kms' '45,933 kms'\n",
      " '1,02,563 kms' '28,600 kms' '41,800 kms' '1,16,000 kms' '42,590 kms'\n",
      " '7,400 kms' '54,500 kms' '76,000 kms' '00 kms' '11,523 kms' '38,600 kms'\n",
      " '95,500 kms' '37,458 kms' '85,960 kms' '12,516 kms' '30,600 kms'\n",
      " '2,550 kms' '62,500 kms' '69,000 kms' '28,400 kms' '68,485 kms'\n",
      " '3,500 kms' '85,455 kms' '63,000 kms' '1,600 kms' '77,000 kms'\n",
      " '26,500 kms' '2,875 kms' '13,900 kms' '1,500 kms' '2,450 kms' '1,625 kms'\n",
      " '33,400 kms' '60,123 kms' '38,900 kms' '1,37,495 kms' '91,200 kms'\n",
      " '1,46,000 kms' '1,00,800 kms' '2,100 kms' '2,500 kms' '1,32,000 kms'\n",
      " 'Petrol']\n",
      "\n",
      "\n",
      "#############################################################################\n",
      "Unique values on fuel_type:\n",
      "['Petrol' 'Diesel' nan 'LPG']\n",
      "\n",
      "\n",
      "#############################################################################\n"
     ]
    }
   ],
   "source": [
    "for i in df.columns:\n",
    "    uniques = df[i].unique()\n",
    "    print(f'Unique values on {i}:')\n",
    "    print(uniques)\n",
    "    print('\\n')\n",
    "    print('#############################################################################')"
   ]
  },
  {
   "cell_type": "code",
   "execution_count": 34,
   "id": "9a0c39a3",
   "metadata": {},
   "outputs": [
    {
     "data": {
      "text/plain": [
       "array(['2007', '2006', '2018', '2014', '2015', '2012', '2013', '2016',\n",
       "       '2010', '2017', '2008', '2011', '2019', '2009', '2005', '2000',\n",
       "       '...', '150k', 'TOUR', '2003', 'r 15', '2004', 'Zest', '/-Rs',\n",
       "       'sale', '1995', 'ara)', '2002', 'SELL', '2001', 'tion', 'odel',\n",
       "       '2 bs', 'arry', 'Eon', 'o...', 'ture', 'emi', 'car', 'able', 'no.',\n",
       "       'd...', 'SALE', 'digo', 'sell', 'd Ex', 'n...', 'e...', 'D...',\n",
       "       ', Ac', 'go .', 'k...', 'o c4', 'zire', 'cent', 'Sumo', 'cab',\n",
       "       't xe', 'EV2', 'r...', 'zest'], dtype=object)"
      ]
     },
     "execution_count": 34,
     "metadata": {},
     "output_type": "execute_result"
    }
   ],
   "source": [
    "# Clean the data\n",
    "# 5. year has many non-year values, and year is in object change it to integer\n",
    "\n",
    "df['year'].unique()"
   ]
  },
  {
   "cell_type": "code",
   "execution_count": 39,
   "id": "f656fbe9",
   "metadata": {},
   "outputs": [],
   "source": [
    "# def is_valid_year(x):\n",
    "#     if x.isdigit() and 1900 <= int(x) <= 2024:  # Assuming the range of valid years\n",
    "#         return True\n",
    "#     return False\n",
    "\n",
    "# # Apply the function to filter the DataFrame\n",
    "# df = df[df['year'].apply(is_valid_year)]\n",
    "\n",
    "# # Optionally, reset the index\n",
    "# df = df.reset_index(drop=True)\n",
    "\n",
    "# print(df['year'].unique())\n",
    "\n",
    "# OR\n",
    "\n",
    "df = df[df['year'].str.isnumeric()]"
   ]
  },
  {
   "cell_type": "code",
   "execution_count": 40,
   "id": "494e3b69",
   "metadata": {},
   "outputs": [
    {
     "data": {
      "text/plain": [
       "array(['2007', '2006', '2018', '2014', '2015', '2012', '2013', '2016',\n",
       "       '2010', '2017', '2008', '2011', '2019', '2009', '2005', '2000',\n",
       "       '2003', '2004', '1995', '2002', '2001'], dtype=object)"
      ]
     },
     "execution_count": 40,
     "metadata": {},
     "output_type": "execute_result"
    }
   ],
   "source": [
    "df['year'].unique()"
   ]
  },
  {
   "cell_type": "code",
   "execution_count": 41,
   "id": "7c3889e6",
   "metadata": {},
   "outputs": [],
   "source": [
    "df['year'] = df['year'].astype(int)"
   ]
  },
  {
   "cell_type": "code",
   "execution_count": 42,
   "id": "d8ade62d",
   "metadata": {},
   "outputs": [
    {
     "name": "stdout",
     "output_type": "stream",
     "text": [
      "<class 'pandas.core.frame.DataFrame'>\n",
      "Int64Index: 842 entries, 0 to 891\n",
      "Data columns (total 6 columns):\n",
      " #   Column      Non-Null Count  Dtype \n",
      "---  ------      --------------  ----- \n",
      " 0   name        842 non-null    object\n",
      " 1   company     842 non-null    object\n",
      " 2   year        842 non-null    int32 \n",
      " 3   Price       842 non-null    object\n",
      " 4   kms_driven  840 non-null    object\n",
      " 5   fuel_type   837 non-null    object\n",
      "dtypes: int32(1), object(5)\n",
      "memory usage: 42.8+ KB\n"
     ]
    }
   ],
   "source": [
    "df.info()"
   ]
  },
  {
   "cell_type": "code",
   "execution_count": 47,
   "id": "ca41fae2",
   "metadata": {},
   "outputs": [],
   "source": [
    "# 6. Price has 'Ask for Price'\n",
    "df = df[df['Price'] != 'Ask For Price']"
   ]
  },
  {
   "cell_type": "code",
   "execution_count": 53,
   "id": "c6d1962d",
   "metadata": {},
   "outputs": [
    {
     "name": "stderr",
     "output_type": "stream",
     "text": [
      "C:\\Users\\kumar\\AppData\\Local\\Temp\\ipykernel_38228\\2916479803.py:1: SettingWithCopyWarning: \n",
      "A value is trying to be set on a copy of a slice from a DataFrame.\n",
      "Try using .loc[row_indexer,col_indexer] = value instead\n",
      "\n",
      "See the caveats in the documentation: https://pandas.pydata.org/pandas-docs/stable/user_guide/indexing.html#returning-a-view-versus-a-copy\n",
      "  df['Price']=df['Price'].str.replace(',','')\n"
     ]
    }
   ],
   "source": [
    "df['Price']=df['Price'].str.replace(',','')"
   ]
  },
  {
   "cell_type": "code",
   "execution_count": 54,
   "id": "d4080add",
   "metadata": {},
   "outputs": [
    {
     "data": {
      "text/plain": [
       "array(['80000', '425000', '325000', '575000', '175000', '190000',\n",
       "       '830000', '250000', '182000', '315000', '415000', '320000',\n",
       "       '1000000', '500000', '350000', '160000', '310000', '75000',\n",
       "       '100000', '290000', '95000', '180000', '385000', '105000',\n",
       "       '650000', '689999', '448000', '549000', '501000', '489999',\n",
       "       '280000', '349999', '284999', '345000', '499999', '235000',\n",
       "       '249999', '1475000', '395000', '220000', '170000', '85000',\n",
       "       '200000', '570000', '110000', '448999', '1891111', '159500',\n",
       "       '344999', '449999', '865000', '699000', '375000', '224999',\n",
       "       '1200000', '195000', '351000', '240000', '90000', '155000',\n",
       "       '600000', '189500', '210000', '390000', '135000', '1600000',\n",
       "       '701000', '265000', '525000', '372000', '635000', '550000',\n",
       "       '485000', '329500', '251111', '569999', '69999', '299999',\n",
       "       '399999', '450000', '270000', '158400', '179000', '125000',\n",
       "       '299000', '150000', '275000', '285000', '340000', '70000',\n",
       "       '289999', '849999', '749999', '274999', '984999', '599999',\n",
       "       '244999', '474999', '245000', '169500', '370000', '168000',\n",
       "       '145000', '98500', '209000', '185000', '900000', '699999',\n",
       "       '199999', '544999', '199000', '540000', '49000', '700000', '55000',\n",
       "       '895000', '355000', '565000', '365000', '40000', '400000',\n",
       "       '330000', '580000', '379000', '219000', '519000', '730000',\n",
       "       '2000000', '2100000', '1400000', '311000', '855000', '535000',\n",
       "       '178000', '300000', '255000', '549999', '380000', '57000',\n",
       "       '410000', '225000', '120000', '59000', '599000', '675000', '72500',\n",
       "       '610000', '230000', '520000', '524999', '424999', '644999',\n",
       "       '584999', '799999', '444999', '649999', '944999', '574999',\n",
       "       '374999', '130000', '401000', '1350000', '174999', '239999',\n",
       "       '99999', '324999', '1074999', '1130000', '149000', '770000',\n",
       "       '30000', '335000', '399000', '65000', '169999', '165000', '560000',\n",
       "       '950000', '715000', '45000', '940000', '155555', '1500000',\n",
       "       '495000', '800000', '1299000', '530000', '1499000', '32000',\n",
       "       '405000', '760000', '750000', '419000', '140000', '1540000',\n",
       "       '123000', '498000', '480000', '488000', '1525000', '548900',\n",
       "       '725000', '99000', '52000', '2800000', '499000', '381000',\n",
       "       '278000', '690000', '260000', '90001', '115000', '1599000',\n",
       "       '159000', '51999', '215000', '35000', '1150000', '269000', '60000',\n",
       "       '430000', '8500003', '401919', '490000', '424000', '205000',\n",
       "       '549900', '435000', '189700', '389700', '360000', '295000',\n",
       "       '114990', '1065000', '470000', '48000', '188000', '465000',\n",
       "       '179999', '2190000', '2390000', '1075000', '475000', '1025000',\n",
       "       '615000', '1900000', '1490000', '1510000', '1850000', '790000',\n",
       "       '1725000', '1225000', '68000', '970000', '3100000', '899000',\n",
       "       '88000', '53000', '568500', '71000', '590000', '795000', '42000',\n",
       "       '189000', '162000', '35999', '2900000', '39999', '50500', '510000',\n",
       "       '860000', '500001'], dtype=object)"
      ]
     },
     "execution_count": 54,
     "metadata": {},
     "output_type": "execute_result"
    }
   ],
   "source": [
    "df['Price'].unique()"
   ]
  },
  {
   "cell_type": "code",
   "execution_count": 55,
   "id": "44fc1823",
   "metadata": {},
   "outputs": [
    {
     "name": "stderr",
     "output_type": "stream",
     "text": [
      "C:\\Users\\kumar\\AppData\\Local\\Temp\\ipykernel_38228\\1817184942.py:1: SettingWithCopyWarning: \n",
      "A value is trying to be set on a copy of a slice from a DataFrame.\n",
      "Try using .loc[row_indexer,col_indexer] = value instead\n",
      "\n",
      "See the caveats in the documentation: https://pandas.pydata.org/pandas-docs/stable/user_guide/indexing.html#returning-a-view-versus-a-copy\n",
      "  df['Price'] = df['Price'].astype(int)\n"
     ]
    }
   ],
   "source": [
    "df['Price'] = df['Price'].astype(int)"
   ]
  },
  {
   "cell_type": "code",
   "execution_count": 56,
   "id": "634834a0",
   "metadata": {},
   "outputs": [
    {
     "name": "stdout",
     "output_type": "stream",
     "text": [
      "<class 'pandas.core.frame.DataFrame'>\n",
      "Int64Index: 819 entries, 0 to 891\n",
      "Data columns (total 6 columns):\n",
      " #   Column      Non-Null Count  Dtype \n",
      "---  ------      --------------  ----- \n",
      " 0   name        819 non-null    object\n",
      " 1   company     819 non-null    object\n",
      " 2   year        819 non-null    int32 \n",
      " 3   Price       819 non-null    int32 \n",
      " 4   kms_driven  819 non-null    object\n",
      " 5   fuel_type   816 non-null    object\n",
      "dtypes: int32(2), object(4)\n",
      "memory usage: 38.4+ KB\n"
     ]
    }
   ],
   "source": [
    "df.info()"
   ]
  },
  {
   "cell_type": "code",
   "execution_count": 57,
   "id": "1a797187",
   "metadata": {},
   "outputs": [
    {
     "data": {
      "text/plain": [
       "array(['45,000 kms', '40 kms', '28,000 kms', '36,000 kms', '41,000 kms',\n",
       "       '25,000 kms', '24,530 kms', '60,000 kms', '30,000 kms',\n",
       "       '32,000 kms', '48,660 kms', '4,000 kms', '16,934 kms',\n",
       "       '43,000 kms', '35,550 kms', '39,522 kms', '39,000 kms',\n",
       "       '55,000 kms', '72,000 kms', '15,975 kms', '70,000 kms',\n",
       "       '23,452 kms', '35,522 kms', '48,508 kms', '15,487 kms',\n",
       "       '82,000 kms', '20,000 kms', '68,000 kms', '38,000 kms',\n",
       "       '27,000 kms', '33,000 kms', '46,000 kms', '16,000 kms',\n",
       "       '47,000 kms', '35,000 kms', '30,874 kms', '15,000 kms',\n",
       "       '29,685 kms', '1,30,000 kms', '19,000 kms', '54,000 kms',\n",
       "       '13,000 kms', '38,200 kms', '22,000 kms', '50,000 kms',\n",
       "       '13,500 kms', '3,600 kms', '45,863 kms', '60,500 kms',\n",
       "       '12,500 kms', '18,000 kms', '13,349 kms', '29,000 kms',\n",
       "       '44,000 kms', '42,000 kms', '14,000 kms', '49,000 kms',\n",
       "       '36,200 kms', '51,000 kms', '1,04,000 kms', '33,333 kms',\n",
       "       '33,600 kms', '5,600 kms', '7,500 kms', '26,000 kms', '24,330 kms',\n",
       "       '65,480 kms', '2,00,000 kms', '59,000 kms', '99,000 kms',\n",
       "       '2,800 kms', '21,000 kms', '11,000 kms', '66,000 kms', '3,000 kms',\n",
       "       '7,000 kms', '38,500 kms', '37,200 kms', '43,200 kms',\n",
       "       '24,800 kms', '45,872 kms', '40,000 kms', '11,400 kms',\n",
       "       '97,200 kms', '52,000 kms', '31,000 kms', '1,75,430 kms',\n",
       "       '37,000 kms', '65,000 kms', '3,350 kms', '75,000 kms',\n",
       "       '62,000 kms', '73,000 kms', '2,200 kms', '54,870 kms',\n",
       "       '34,580 kms', '97,000 kms', '60 kms', '80,200 kms', '3,200 kms',\n",
       "       '0,000 kms', '5,000 kms', '588 kms', '71,200 kms', '1,75,400 kms',\n",
       "       '9,300 kms', '56,758 kms', '10,000 kms', '56,450 kms',\n",
       "       '56,000 kms', '32,700 kms', '9,000 kms', '73 kms', '1,60,000 kms',\n",
       "       '58,559 kms', '57,000 kms', '1,70,000 kms', '80,000 kms',\n",
       "       '6,821 kms', '23,000 kms', '34,000 kms', '1,800 kms',\n",
       "       '4,00,000 kms', '48,000 kms', '90,000 kms', '12,000 kms',\n",
       "       '69,900 kms', '1,66,000 kms', '122 kms', '0 kms', '36,469 kms',\n",
       "       '7,800 kms', '24,695 kms', '15,141 kms', '59,910 kms',\n",
       "       '1,00,000 kms', '4,500 kms', '1,29,000 kms', '300 kms',\n",
       "       '1,31,000 kms', '1,11,111 kms', '59,466 kms', '25,500 kms',\n",
       "       '44,005 kms', '2,110 kms', '43,222 kms', '1,00,200 kms', '65 kms',\n",
       "       '1,40,000 kms', '1,03,553 kms', '58,000 kms', '1,20,000 kms',\n",
       "       '49,800 kms', '100 kms', '81,876 kms', '6,020 kms', '55,700 kms',\n",
       "       '18,500 kms', '53,000 kms', '35,500 kms', '22,134 kms',\n",
       "       '1,000 kms', '8,500 kms', '87,000 kms', '6,000 kms', '8,000 kms',\n",
       "       '55,800 kms', '56,400 kms', '72,160 kms', '11,500 kms',\n",
       "       '1,33,000 kms', '2,000 kms', '88,000 kms', '65,422 kms',\n",
       "       '1,17,000 kms', '1,50,000 kms', '10,750 kms', '6,800 kms',\n",
       "       '9,800 kms', '57,923 kms', '30,201 kms', '6,200 kms', '37,518 kms',\n",
       "       '24,652 kms', '383 kms', '95,000 kms', '3,528 kms', '52,500 kms',\n",
       "       '47,900 kms', '52,800 kms', '1,95,000 kms', '48,008 kms',\n",
       "       '48,247 kms', '9,400 kms', '64,000 kms', '2,137 kms', '10,544 kms',\n",
       "       '1,47,000 kms', '90,001 kms', '48,006 kms', '74,000 kms',\n",
       "       '85,000 kms', '29,500 kms', '39,700 kms', '67,000 kms',\n",
       "       '19,336 kms', '60,105 kms', '45,933 kms', '1,02,563 kms',\n",
       "       '28,600 kms', '41,800 kms', '1,16,000 kms', '42,590 kms',\n",
       "       '7,400 kms', '54,500 kms', '76,000 kms', '00 kms', '11,523 kms',\n",
       "       '38,600 kms', '95,500 kms', '37,458 kms', '85,960 kms',\n",
       "       '12,516 kms', '30,600 kms', '2,550 kms', '62,500 kms',\n",
       "       '69,000 kms', '28,400 kms', '68,485 kms', '3,500 kms',\n",
       "       '85,455 kms', '63,000 kms', '1,600 kms', '77,000 kms',\n",
       "       '26,500 kms', '2,875 kms', '13,900 kms', '1,500 kms', '2,450 kms',\n",
       "       '1,625 kms', '33,400 kms', '60,123 kms', '1,37,495 kms',\n",
       "       '91,200 kms', '1,46,000 kms', '1,00,800 kms', '2,100 kms',\n",
       "       '2,500 kms', '1,32,000 kms', 'Petrol'], dtype=object)"
      ]
     },
     "execution_count": 57,
     "metadata": {},
     "output_type": "execute_result"
    }
   ],
   "source": [
    "# 7. kms_driven has object values with kms at last. Remove kms\n",
    "df['kms_driven'].unique()"
   ]
  },
  {
   "cell_type": "code",
   "execution_count": 63,
   "id": "2168f9ae",
   "metadata": {},
   "outputs": [],
   "source": [
    "df['kms_driven'] = df['kms_driven'].str.split(' ').str[0]"
   ]
  },
  {
   "cell_type": "code",
   "execution_count": 65,
   "id": "49f55850",
   "metadata": {},
   "outputs": [],
   "source": [
    "df['kms_driven'] = df['kms_driven'].str.replace(',','')"
   ]
  },
  {
   "cell_type": "code",
   "execution_count": 67,
   "id": "cd59f156",
   "metadata": {},
   "outputs": [],
   "source": [
    "df = df[df['kms_driven']!= 'Petrol']"
   ]
  },
  {
   "cell_type": "code",
   "execution_count": 69,
   "id": "cd9ed4d0",
   "metadata": {},
   "outputs": [
    {
     "name": "stderr",
     "output_type": "stream",
     "text": [
      "C:\\Users\\kumar\\AppData\\Local\\Temp\\ipykernel_38228\\822853482.py:1: SettingWithCopyWarning: \n",
      "A value is trying to be set on a copy of a slice from a DataFrame.\n",
      "Try using .loc[row_indexer,col_indexer] = value instead\n",
      "\n",
      "See the caveats in the documentation: https://pandas.pydata.org/pandas-docs/stable/user_guide/indexing.html#returning-a-view-versus-a-copy\n",
      "  df['kms_driven'] = df['kms_driven'].astype(int)\n"
     ]
    }
   ],
   "source": [
    "df['kms_driven'] = df['kms_driven'].astype(int)"
   ]
  },
  {
   "cell_type": "code",
   "execution_count": 70,
   "id": "10f6f34d",
   "metadata": {},
   "outputs": [
    {
     "name": "stdout",
     "output_type": "stream",
     "text": [
      "<class 'pandas.core.frame.DataFrame'>\n",
      "Int64Index: 817 entries, 0 to 889\n",
      "Data columns (total 6 columns):\n",
      " #   Column      Non-Null Count  Dtype \n",
      "---  ------      --------------  ----- \n",
      " 0   name        817 non-null    object\n",
      " 1   company     817 non-null    object\n",
      " 2   year        817 non-null    int32 \n",
      " 3   Price       817 non-null    int32 \n",
      " 4   kms_driven  817 non-null    int32 \n",
      " 5   fuel_type   816 non-null    object\n",
      "dtypes: int32(3), object(3)\n",
      "memory usage: 35.1+ KB\n"
     ]
    }
   ],
   "source": [
    "df.info()"
   ]
  },
  {
   "cell_type": "code",
   "execution_count": 71,
   "id": "d03b80b7",
   "metadata": {},
   "outputs": [
    {
     "data": {
      "text/plain": [
       "array(['Petrol', 'Diesel', nan, 'LPG'], dtype=object)"
      ]
     },
     "execution_count": 71,
     "metadata": {},
     "output_type": "execute_result"
    }
   ],
   "source": [
    "# 10. fuel_type has nan values\n",
    "df['fuel_type'].unique()"
   ]
  },
  {
   "cell_type": "code",
   "execution_count": 80,
   "id": "a8dcbb73",
   "metadata": {},
   "outputs": [],
   "source": [
    "df = df[~df['fuel_type'].isnull()]"
   ]
  },
  {
   "cell_type": "code",
   "execution_count": 81,
   "id": "8ae3c53e",
   "metadata": {},
   "outputs": [
    {
     "name": "stdout",
     "output_type": "stream",
     "text": [
      "<class 'pandas.core.frame.DataFrame'>\n",
      "Int64Index: 816 entries, 0 to 889\n",
      "Data columns (total 6 columns):\n",
      " #   Column      Non-Null Count  Dtype \n",
      "---  ------      --------------  ----- \n",
      " 0   name        816 non-null    object\n",
      " 1   company     816 non-null    object\n",
      " 2   year        816 non-null    int32 \n",
      " 3   Price       816 non-null    int32 \n",
      " 4   kms_driven  816 non-null    int32 \n",
      " 5   fuel_type   816 non-null    object\n",
      "dtypes: int32(3), object(3)\n",
      "memory usage: 35.1+ KB\n"
     ]
    }
   ],
   "source": [
    "df.info()"
   ]
  },
  {
   "cell_type": "code",
   "execution_count": 86,
   "id": "d69e705d",
   "metadata": {},
   "outputs": [],
   "source": [
    "df['name'] = df['name'].str.split(' ').str[0:3].str.join(' ')"
   ]
  },
  {
   "cell_type": "code",
   "execution_count": 87,
   "id": "9034cac1",
   "metadata": {},
   "outputs": [
    {
     "data": {
      "text/html": [
       "<div>\n",
       "<style scoped>\n",
       "    .dataframe tbody tr th:only-of-type {\n",
       "        vertical-align: middle;\n",
       "    }\n",
       "\n",
       "    .dataframe tbody tr th {\n",
       "        vertical-align: top;\n",
       "    }\n",
       "\n",
       "    .dataframe thead th {\n",
       "        text-align: right;\n",
       "    }\n",
       "</style>\n",
       "<table border=\"1\" class=\"dataframe\">\n",
       "  <thead>\n",
       "    <tr style=\"text-align: right;\">\n",
       "      <th></th>\n",
       "      <th>name</th>\n",
       "      <th>company</th>\n",
       "      <th>year</th>\n",
       "      <th>Price</th>\n",
       "      <th>kms_driven</th>\n",
       "      <th>fuel_type</th>\n",
       "    </tr>\n",
       "  </thead>\n",
       "  <tbody>\n",
       "    <tr>\n",
       "      <th>0</th>\n",
       "      <td>Hyundai Santro Xing</td>\n",
       "      <td>Hyundai</td>\n",
       "      <td>2007</td>\n",
       "      <td>80000</td>\n",
       "      <td>45000</td>\n",
       "      <td>Petrol</td>\n",
       "    </tr>\n",
       "    <tr>\n",
       "      <th>1</th>\n",
       "      <td>Mahindra Jeep CL550</td>\n",
       "      <td>Mahindra</td>\n",
       "      <td>2006</td>\n",
       "      <td>425000</td>\n",
       "      <td>40</td>\n",
       "      <td>Diesel</td>\n",
       "    </tr>\n",
       "    <tr>\n",
       "      <th>3</th>\n",
       "      <td>Hyundai Grand i10</td>\n",
       "      <td>Hyundai</td>\n",
       "      <td>2014</td>\n",
       "      <td>325000</td>\n",
       "      <td>28000</td>\n",
       "      <td>Petrol</td>\n",
       "    </tr>\n",
       "    <tr>\n",
       "      <th>4</th>\n",
       "      <td>Ford EcoSport Titanium</td>\n",
       "      <td>Ford</td>\n",
       "      <td>2014</td>\n",
       "      <td>575000</td>\n",
       "      <td>36000</td>\n",
       "      <td>Diesel</td>\n",
       "    </tr>\n",
       "    <tr>\n",
       "      <th>6</th>\n",
       "      <td>Ford Figo</td>\n",
       "      <td>Ford</td>\n",
       "      <td>2012</td>\n",
       "      <td>175000</td>\n",
       "      <td>41000</td>\n",
       "      <td>Diesel</td>\n",
       "    </tr>\n",
       "  </tbody>\n",
       "</table>\n",
       "</div>"
      ],
      "text/plain": [
       "                     name   company  year   Price  kms_driven fuel_type\n",
       "0     Hyundai Santro Xing   Hyundai  2007   80000       45000    Petrol\n",
       "1     Mahindra Jeep CL550  Mahindra  2006  425000          40    Diesel\n",
       "3       Hyundai Grand i10   Hyundai  2014  325000       28000    Petrol\n",
       "4  Ford EcoSport Titanium      Ford  2014  575000       36000    Diesel\n",
       "6               Ford Figo      Ford  2012  175000       41000    Diesel"
      ]
     },
     "execution_count": 87,
     "metadata": {},
     "output_type": "execute_result"
    }
   ],
   "source": [
    "df.head()"
   ]
  },
  {
   "cell_type": "code",
   "execution_count": 88,
   "id": "a452cc39",
   "metadata": {},
   "outputs": [
    {
     "name": "stdout",
     "output_type": "stream",
     "text": [
      "<class 'pandas.core.frame.DataFrame'>\n",
      "Int64Index: 816 entries, 0 to 889\n",
      "Data columns (total 6 columns):\n",
      " #   Column      Non-Null Count  Dtype \n",
      "---  ------      --------------  ----- \n",
      " 0   name        816 non-null    object\n",
      " 1   company     816 non-null    object\n",
      " 2   year        816 non-null    int32 \n",
      " 3   Price       816 non-null    int32 \n",
      " 4   kms_driven  816 non-null    int32 \n",
      " 5   fuel_type   816 non-null    object\n",
      "dtypes: int32(3), object(3)\n",
      "memory usage: 35.1+ KB\n"
     ]
    }
   ],
   "source": [
    "df.info()"
   ]
  },
  {
   "cell_type": "code",
   "execution_count": 89,
   "id": "a2b63233",
   "metadata": {},
   "outputs": [],
   "source": [
    "df = df.reset_index(drop=True)"
   ]
  },
  {
   "cell_type": "code",
   "execution_count": 91,
   "id": "978f033a",
   "metadata": {},
   "outputs": [
    {
     "data": {
      "text/html": [
       "<div>\n",
       "<style scoped>\n",
       "    .dataframe tbody tr th:only-of-type {\n",
       "        vertical-align: middle;\n",
       "    }\n",
       "\n",
       "    .dataframe tbody tr th {\n",
       "        vertical-align: top;\n",
       "    }\n",
       "\n",
       "    .dataframe thead th {\n",
       "        text-align: right;\n",
       "    }\n",
       "</style>\n",
       "<table border=\"1\" class=\"dataframe\">\n",
       "  <thead>\n",
       "    <tr style=\"text-align: right;\">\n",
       "      <th></th>\n",
       "      <th>name</th>\n",
       "      <th>company</th>\n",
       "      <th>year</th>\n",
       "      <th>Price</th>\n",
       "      <th>kms_driven</th>\n",
       "      <th>fuel_type</th>\n",
       "    </tr>\n",
       "  </thead>\n",
       "  <tbody>\n",
       "    <tr>\n",
       "      <th>0</th>\n",
       "      <td>Hyundai Santro Xing</td>\n",
       "      <td>Hyundai</td>\n",
       "      <td>2007</td>\n",
       "      <td>80000</td>\n",
       "      <td>45000</td>\n",
       "      <td>Petrol</td>\n",
       "    </tr>\n",
       "    <tr>\n",
       "      <th>1</th>\n",
       "      <td>Mahindra Jeep CL550</td>\n",
       "      <td>Mahindra</td>\n",
       "      <td>2006</td>\n",
       "      <td>425000</td>\n",
       "      <td>40</td>\n",
       "      <td>Diesel</td>\n",
       "    </tr>\n",
       "    <tr>\n",
       "      <th>2</th>\n",
       "      <td>Hyundai Grand i10</td>\n",
       "      <td>Hyundai</td>\n",
       "      <td>2014</td>\n",
       "      <td>325000</td>\n",
       "      <td>28000</td>\n",
       "      <td>Petrol</td>\n",
       "    </tr>\n",
       "    <tr>\n",
       "      <th>3</th>\n",
       "      <td>Ford EcoSport Titanium</td>\n",
       "      <td>Ford</td>\n",
       "      <td>2014</td>\n",
       "      <td>575000</td>\n",
       "      <td>36000</td>\n",
       "      <td>Diesel</td>\n",
       "    </tr>\n",
       "    <tr>\n",
       "      <th>4</th>\n",
       "      <td>Ford Figo</td>\n",
       "      <td>Ford</td>\n",
       "      <td>2012</td>\n",
       "      <td>175000</td>\n",
       "      <td>41000</td>\n",
       "      <td>Diesel</td>\n",
       "    </tr>\n",
       "    <tr>\n",
       "      <th>...</th>\n",
       "      <td>...</td>\n",
       "      <td>...</td>\n",
       "      <td>...</td>\n",
       "      <td>...</td>\n",
       "      <td>...</td>\n",
       "      <td>...</td>\n",
       "    </tr>\n",
       "    <tr>\n",
       "      <th>811</th>\n",
       "      <td>Maruti Suzuki Ritz</td>\n",
       "      <td>Maruti</td>\n",
       "      <td>2011</td>\n",
       "      <td>270000</td>\n",
       "      <td>50000</td>\n",
       "      <td>Petrol</td>\n",
       "    </tr>\n",
       "    <tr>\n",
       "      <th>812</th>\n",
       "      <td>Tata Indica V2</td>\n",
       "      <td>Tata</td>\n",
       "      <td>2009</td>\n",
       "      <td>110000</td>\n",
       "      <td>30000</td>\n",
       "      <td>Diesel</td>\n",
       "    </tr>\n",
       "    <tr>\n",
       "      <th>813</th>\n",
       "      <td>Toyota Corolla Altis</td>\n",
       "      <td>Toyota</td>\n",
       "      <td>2009</td>\n",
       "      <td>300000</td>\n",
       "      <td>132000</td>\n",
       "      <td>Petrol</td>\n",
       "    </tr>\n",
       "    <tr>\n",
       "      <th>814</th>\n",
       "      <td>Tata Zest XM</td>\n",
       "      <td>Tata</td>\n",
       "      <td>2018</td>\n",
       "      <td>260000</td>\n",
       "      <td>27000</td>\n",
       "      <td>Diesel</td>\n",
       "    </tr>\n",
       "    <tr>\n",
       "      <th>815</th>\n",
       "      <td>Mahindra Quanto C8</td>\n",
       "      <td>Mahindra</td>\n",
       "      <td>2013</td>\n",
       "      <td>390000</td>\n",
       "      <td>40000</td>\n",
       "      <td>Diesel</td>\n",
       "    </tr>\n",
       "  </tbody>\n",
       "</table>\n",
       "<p>816 rows × 6 columns</p>\n",
       "</div>"
      ],
      "text/plain": [
       "                       name   company  year   Price  kms_driven fuel_type\n",
       "0       Hyundai Santro Xing   Hyundai  2007   80000       45000    Petrol\n",
       "1       Mahindra Jeep CL550  Mahindra  2006  425000          40    Diesel\n",
       "2         Hyundai Grand i10   Hyundai  2014  325000       28000    Petrol\n",
       "3    Ford EcoSport Titanium      Ford  2014  575000       36000    Diesel\n",
       "4                 Ford Figo      Ford  2012  175000       41000    Diesel\n",
       "..                      ...       ...   ...     ...         ...       ...\n",
       "811      Maruti Suzuki Ritz    Maruti  2011  270000       50000    Petrol\n",
       "812          Tata Indica V2      Tata  2009  110000       30000    Diesel\n",
       "813    Toyota Corolla Altis    Toyota  2009  300000      132000    Petrol\n",
       "814            Tata Zest XM      Tata  2018  260000       27000    Diesel\n",
       "815      Mahindra Quanto C8  Mahindra  2013  390000       40000    Diesel\n",
       "\n",
       "[816 rows x 6 columns]"
      ]
     },
     "execution_count": 91,
     "metadata": {},
     "output_type": "execute_result"
    }
   ],
   "source": [
    "df"
   ]
  },
  {
   "cell_type": "code",
   "execution_count": 92,
   "id": "98e794cf",
   "metadata": {},
   "outputs": [
    {
     "data": {
      "text/plain": [
       "array(['Hyundai', 'Mahindra', 'Ford', 'Maruti', 'Skoda', 'Audi', 'Toyota',\n",
       "       'Renault', 'Honda', 'Datsun', 'Mitsubishi', 'Tata', 'Volkswagen',\n",
       "       'Chevrolet', 'Mini', 'BMW', 'Nissan', 'Hindustan', 'Fiat', 'Force',\n",
       "       'Mercedes', 'Land', 'Jaguar', 'Jeep', 'Volvo'], dtype=object)"
      ]
     },
     "execution_count": 92,
     "metadata": {},
     "output_type": "execute_result"
    }
   ],
   "source": [
    "df['company'].unique()"
   ]
  },
  {
   "cell_type": "code",
   "execution_count": 93,
   "id": "14af3d95",
   "metadata": {},
   "outputs": [
    {
     "data": {
      "text/html": [
       "<div>\n",
       "<style scoped>\n",
       "    .dataframe tbody tr th:only-of-type {\n",
       "        vertical-align: middle;\n",
       "    }\n",
       "\n",
       "    .dataframe tbody tr th {\n",
       "        vertical-align: top;\n",
       "    }\n",
       "\n",
       "    .dataframe thead th {\n",
       "        text-align: right;\n",
       "    }\n",
       "</style>\n",
       "<table border=\"1\" class=\"dataframe\">\n",
       "  <thead>\n",
       "    <tr style=\"text-align: right;\">\n",
       "      <th></th>\n",
       "      <th>year</th>\n",
       "      <th>Price</th>\n",
       "      <th>kms_driven</th>\n",
       "    </tr>\n",
       "  </thead>\n",
       "  <tbody>\n",
       "    <tr>\n",
       "      <th>count</th>\n",
       "      <td>816.000000</td>\n",
       "      <td>8.160000e+02</td>\n",
       "      <td>816.000000</td>\n",
       "    </tr>\n",
       "    <tr>\n",
       "      <th>mean</th>\n",
       "      <td>2012.444853</td>\n",
       "      <td>4.117176e+05</td>\n",
       "      <td>46275.531863</td>\n",
       "    </tr>\n",
       "    <tr>\n",
       "      <th>std</th>\n",
       "      <td>4.002992</td>\n",
       "      <td>4.751844e+05</td>\n",
       "      <td>34297.428044</td>\n",
       "    </tr>\n",
       "    <tr>\n",
       "      <th>min</th>\n",
       "      <td>1995.000000</td>\n",
       "      <td>3.000000e+04</td>\n",
       "      <td>0.000000</td>\n",
       "    </tr>\n",
       "    <tr>\n",
       "      <th>25%</th>\n",
       "      <td>2010.000000</td>\n",
       "      <td>1.750000e+05</td>\n",
       "      <td>27000.000000</td>\n",
       "    </tr>\n",
       "    <tr>\n",
       "      <th>50%</th>\n",
       "      <td>2013.000000</td>\n",
       "      <td>2.999990e+05</td>\n",
       "      <td>41000.000000</td>\n",
       "    </tr>\n",
       "    <tr>\n",
       "      <th>75%</th>\n",
       "      <td>2015.000000</td>\n",
       "      <td>4.912500e+05</td>\n",
       "      <td>56818.500000</td>\n",
       "    </tr>\n",
       "    <tr>\n",
       "      <th>max</th>\n",
       "      <td>2019.000000</td>\n",
       "      <td>8.500003e+06</td>\n",
       "      <td>400000.000000</td>\n",
       "    </tr>\n",
       "  </tbody>\n",
       "</table>\n",
       "</div>"
      ],
      "text/plain": [
       "              year         Price     kms_driven\n",
       "count   816.000000  8.160000e+02     816.000000\n",
       "mean   2012.444853  4.117176e+05   46275.531863\n",
       "std       4.002992  4.751844e+05   34297.428044\n",
       "min    1995.000000  3.000000e+04       0.000000\n",
       "25%    2010.000000  1.750000e+05   27000.000000\n",
       "50%    2013.000000  2.999990e+05   41000.000000\n",
       "75%    2015.000000  4.912500e+05   56818.500000\n",
       "max    2019.000000  8.500003e+06  400000.000000"
      ]
     },
     "execution_count": 93,
     "metadata": {},
     "output_type": "execute_result"
    }
   ],
   "source": [
    "df.describe()"
   ]
  },
  {
   "cell_type": "code",
   "execution_count": 97,
   "id": "8029b21f",
   "metadata": {},
   "outputs": [],
   "source": [
    "df = df[df['Price']<6e6].reset_index(drop=True) # cars greater than 60lakhs"
   ]
  },
  {
   "cell_type": "code",
   "execution_count": 98,
   "id": "127034ad",
   "metadata": {},
   "outputs": [
    {
     "name": "stdout",
     "output_type": "stream",
     "text": [
      "<class 'pandas.core.frame.DataFrame'>\n",
      "RangeIndex: 815 entries, 0 to 814\n",
      "Data columns (total 6 columns):\n",
      " #   Column      Non-Null Count  Dtype \n",
      "---  ------      --------------  ----- \n",
      " 0   name        815 non-null    object\n",
      " 1   company     815 non-null    object\n",
      " 2   year        815 non-null    int32 \n",
      " 3   Price       815 non-null    int32 \n",
      " 4   kms_driven  815 non-null    int32 \n",
      " 5   fuel_type   815 non-null    object\n",
      "dtypes: int32(3), object(3)\n",
      "memory usage: 28.8+ KB\n"
     ]
    }
   ],
   "source": [
    "df.info()"
   ]
  },
  {
   "cell_type": "code",
   "execution_count": 100,
   "id": "b7697986",
   "metadata": {},
   "outputs": [
    {
     "data": {
      "text/html": [
       "<div>\n",
       "<style scoped>\n",
       "    .dataframe tbody tr th:only-of-type {\n",
       "        vertical-align: middle;\n",
       "    }\n",
       "\n",
       "    .dataframe tbody tr th {\n",
       "        vertical-align: top;\n",
       "    }\n",
       "\n",
       "    .dataframe thead th {\n",
       "        text-align: right;\n",
       "    }\n",
       "</style>\n",
       "<table border=\"1\" class=\"dataframe\">\n",
       "  <thead>\n",
       "    <tr style=\"text-align: right;\">\n",
       "      <th></th>\n",
       "      <th>name</th>\n",
       "      <th>company</th>\n",
       "      <th>year</th>\n",
       "      <th>Price</th>\n",
       "      <th>kms_driven</th>\n",
       "      <th>fuel_type</th>\n",
       "    </tr>\n",
       "  </thead>\n",
       "  <tbody>\n",
       "    <tr>\n",
       "      <th>0</th>\n",
       "      <td>Hyundai Santro Xing</td>\n",
       "      <td>Hyundai</td>\n",
       "      <td>2007</td>\n",
       "      <td>80000</td>\n",
       "      <td>45000</td>\n",
       "      <td>Petrol</td>\n",
       "    </tr>\n",
       "    <tr>\n",
       "      <th>1</th>\n",
       "      <td>Mahindra Jeep CL550</td>\n",
       "      <td>Mahindra</td>\n",
       "      <td>2006</td>\n",
       "      <td>425000</td>\n",
       "      <td>40</td>\n",
       "      <td>Diesel</td>\n",
       "    </tr>\n",
       "    <tr>\n",
       "      <th>2</th>\n",
       "      <td>Hyundai Grand i10</td>\n",
       "      <td>Hyundai</td>\n",
       "      <td>2014</td>\n",
       "      <td>325000</td>\n",
       "      <td>28000</td>\n",
       "      <td>Petrol</td>\n",
       "    </tr>\n",
       "    <tr>\n",
       "      <th>3</th>\n",
       "      <td>Ford EcoSport Titanium</td>\n",
       "      <td>Ford</td>\n",
       "      <td>2014</td>\n",
       "      <td>575000</td>\n",
       "      <td>36000</td>\n",
       "      <td>Diesel</td>\n",
       "    </tr>\n",
       "    <tr>\n",
       "      <th>4</th>\n",
       "      <td>Ford Figo</td>\n",
       "      <td>Ford</td>\n",
       "      <td>2012</td>\n",
       "      <td>175000</td>\n",
       "      <td>41000</td>\n",
       "      <td>Diesel</td>\n",
       "    </tr>\n",
       "    <tr>\n",
       "      <th>...</th>\n",
       "      <td>...</td>\n",
       "      <td>...</td>\n",
       "      <td>...</td>\n",
       "      <td>...</td>\n",
       "      <td>...</td>\n",
       "      <td>...</td>\n",
       "    </tr>\n",
       "    <tr>\n",
       "      <th>810</th>\n",
       "      <td>Maruti Suzuki Ritz</td>\n",
       "      <td>Maruti</td>\n",
       "      <td>2011</td>\n",
       "      <td>270000</td>\n",
       "      <td>50000</td>\n",
       "      <td>Petrol</td>\n",
       "    </tr>\n",
       "    <tr>\n",
       "      <th>811</th>\n",
       "      <td>Tata Indica V2</td>\n",
       "      <td>Tata</td>\n",
       "      <td>2009</td>\n",
       "      <td>110000</td>\n",
       "      <td>30000</td>\n",
       "      <td>Diesel</td>\n",
       "    </tr>\n",
       "    <tr>\n",
       "      <th>812</th>\n",
       "      <td>Toyota Corolla Altis</td>\n",
       "      <td>Toyota</td>\n",
       "      <td>2009</td>\n",
       "      <td>300000</td>\n",
       "      <td>132000</td>\n",
       "      <td>Petrol</td>\n",
       "    </tr>\n",
       "    <tr>\n",
       "      <th>813</th>\n",
       "      <td>Tata Zest XM</td>\n",
       "      <td>Tata</td>\n",
       "      <td>2018</td>\n",
       "      <td>260000</td>\n",
       "      <td>27000</td>\n",
       "      <td>Diesel</td>\n",
       "    </tr>\n",
       "    <tr>\n",
       "      <th>814</th>\n",
       "      <td>Mahindra Quanto C8</td>\n",
       "      <td>Mahindra</td>\n",
       "      <td>2013</td>\n",
       "      <td>390000</td>\n",
       "      <td>40000</td>\n",
       "      <td>Diesel</td>\n",
       "    </tr>\n",
       "  </tbody>\n",
       "</table>\n",
       "<p>815 rows × 6 columns</p>\n",
       "</div>"
      ],
      "text/plain": [
       "                       name   company  year   Price  kms_driven fuel_type\n",
       "0       Hyundai Santro Xing   Hyundai  2007   80000       45000    Petrol\n",
       "1       Mahindra Jeep CL550  Mahindra  2006  425000          40    Diesel\n",
       "2         Hyundai Grand i10   Hyundai  2014  325000       28000    Petrol\n",
       "3    Ford EcoSport Titanium      Ford  2014  575000       36000    Diesel\n",
       "4                 Ford Figo      Ford  2012  175000       41000    Diesel\n",
       "..                      ...       ...   ...     ...         ...       ...\n",
       "810      Maruti Suzuki Ritz    Maruti  2011  270000       50000    Petrol\n",
       "811          Tata Indica V2      Tata  2009  110000       30000    Diesel\n",
       "812    Toyota Corolla Altis    Toyota  2009  300000      132000    Petrol\n",
       "813            Tata Zest XM      Tata  2018  260000       27000    Diesel\n",
       "814      Mahindra Quanto C8  Mahindra  2013  390000       40000    Diesel\n",
       "\n",
       "[815 rows x 6 columns]"
      ]
     },
     "execution_count": 100,
     "metadata": {},
     "output_type": "execute_result"
    }
   ],
   "source": [
    "df"
   ]
  },
  {
   "cell_type": "markdown",
   "id": "24969267",
   "metadata": {},
   "source": [
    "# Model Training"
   ]
  },
  {
   "cell_type": "code",
   "execution_count": 101,
   "id": "6a4d9ac2",
   "metadata": {},
   "outputs": [
    {
     "data": {
      "text/html": [
       "<div>\n",
       "<style scoped>\n",
       "    .dataframe tbody tr th:only-of-type {\n",
       "        vertical-align: middle;\n",
       "    }\n",
       "\n",
       "    .dataframe tbody tr th {\n",
       "        vertical-align: top;\n",
       "    }\n",
       "\n",
       "    .dataframe thead th {\n",
       "        text-align: right;\n",
       "    }\n",
       "</style>\n",
       "<table border=\"1\" class=\"dataframe\">\n",
       "  <thead>\n",
       "    <tr style=\"text-align: right;\">\n",
       "      <th></th>\n",
       "      <th>name</th>\n",
       "      <th>company</th>\n",
       "      <th>year</th>\n",
       "      <th>kms_driven</th>\n",
       "      <th>fuel_type</th>\n",
       "    </tr>\n",
       "  </thead>\n",
       "  <tbody>\n",
       "    <tr>\n",
       "      <th>0</th>\n",
       "      <td>Hyundai Santro Xing</td>\n",
       "      <td>Hyundai</td>\n",
       "      <td>2007</td>\n",
       "      <td>45000</td>\n",
       "      <td>Petrol</td>\n",
       "    </tr>\n",
       "    <tr>\n",
       "      <th>1</th>\n",
       "      <td>Mahindra Jeep CL550</td>\n",
       "      <td>Mahindra</td>\n",
       "      <td>2006</td>\n",
       "      <td>40</td>\n",
       "      <td>Diesel</td>\n",
       "    </tr>\n",
       "    <tr>\n",
       "      <th>2</th>\n",
       "      <td>Hyundai Grand i10</td>\n",
       "      <td>Hyundai</td>\n",
       "      <td>2014</td>\n",
       "      <td>28000</td>\n",
       "      <td>Petrol</td>\n",
       "    </tr>\n",
       "    <tr>\n",
       "      <th>3</th>\n",
       "      <td>Ford EcoSport Titanium</td>\n",
       "      <td>Ford</td>\n",
       "      <td>2014</td>\n",
       "      <td>36000</td>\n",
       "      <td>Diesel</td>\n",
       "    </tr>\n",
       "    <tr>\n",
       "      <th>4</th>\n",
       "      <td>Ford Figo</td>\n",
       "      <td>Ford</td>\n",
       "      <td>2012</td>\n",
       "      <td>41000</td>\n",
       "      <td>Diesel</td>\n",
       "    </tr>\n",
       "  </tbody>\n",
       "</table>\n",
       "</div>"
      ],
      "text/plain": [
       "                     name   company  year  kms_driven fuel_type\n",
       "0     Hyundai Santro Xing   Hyundai  2007       45000    Petrol\n",
       "1     Mahindra Jeep CL550  Mahindra  2006          40    Diesel\n",
       "2       Hyundai Grand i10   Hyundai  2014       28000    Petrol\n",
       "3  Ford EcoSport Titanium      Ford  2014       36000    Diesel\n",
       "4               Ford Figo      Ford  2012       41000    Diesel"
      ]
     },
     "execution_count": 101,
     "metadata": {},
     "output_type": "execute_result"
    }
   ],
   "source": [
    "X = df.drop(columns='Price')\n",
    "X.head()"
   ]
  },
  {
   "cell_type": "code",
   "execution_count": 103,
   "id": "7c5cdbb0",
   "metadata": {},
   "outputs": [
    {
     "data": {
      "text/plain": [
       "0     80000\n",
       "1    425000\n",
       "2    325000\n",
       "3    575000\n",
       "4    175000\n",
       "Name: Price, dtype: int32"
      ]
     },
     "execution_count": 103,
     "metadata": {},
     "output_type": "execute_result"
    }
   ],
   "source": [
    "y=df['Price']\n",
    "y.head()"
   ]
  },
  {
   "cell_type": "code",
   "execution_count": 118,
   "id": "afaae66c",
   "metadata": {},
   "outputs": [],
   "source": [
    "#Encoding Technique\n",
    "from sklearn.preprocessing import OneHotEncoder\n",
    "from sklearn.compose import make_column_transformer\n",
    "from sklearn.pipeline import make_pipeline\n",
    "from sklearn.linear_model import LinearRegression"
   ]
  },
  {
   "cell_type": "code",
   "execution_count": 105,
   "id": "5d0e9480",
   "metadata": {},
   "outputs": [
    {
     "data": {
      "text/plain": [
       "OneHotEncoder()"
      ]
     },
     "execution_count": 105,
     "metadata": {},
     "output_type": "execute_result"
    }
   ],
   "source": [
    "ohe = OneHotEncoder()\n",
    "ohe.fit(X[['name','company', 'fuel_type']])"
   ]
  },
  {
   "cell_type": "code",
   "execution_count": 119,
   "id": "ebadb50e",
   "metadata": {},
   "outputs": [],
   "source": [
    "column_trans=make_column_transformer((OneHotEncoder(categories=ohe.categories_),['name','company','fuel_type']),\n",
    "                                    remainder='passthrough')"
   ]
  },
  {
   "cell_type": "code",
   "execution_count": 120,
   "id": "d213d7e9",
   "metadata": {},
   "outputs": [],
   "source": [
    "lr = LinearRegression()"
   ]
  },
  {
   "cell_type": "code",
   "execution_count": 121,
   "id": "e1b1918d",
   "metadata": {},
   "outputs": [],
   "source": [
    "pipe = make_pipeline(column_trans,lr)"
   ]
  },
  {
   "cell_type": "code",
   "execution_count": 122,
   "id": "a456792d",
   "metadata": {},
   "outputs": [],
   "source": [
    "# train test split\n",
    "from sklearn.model_selection import train_test_split\n",
    "X_train, X_test, y_train, y_test = train_test_split(X, y, test_size=0.33, random_state=42)"
   ]
  },
  {
   "cell_type": "code",
   "execution_count": 123,
   "id": "6037b9ee",
   "metadata": {},
   "outputs": [
    {
     "data": {
      "text/plain": [
       "Pipeline(steps=[('columntransformer',\n",
       "                 ColumnTransformer(remainder='passthrough',\n",
       "                                   transformers=[('onehotencoder',\n",
       "                                                  OneHotEncoder(categories=[array(['Audi A3 Cabriolet', 'Audi A4 1.8', 'Audi A4 2.0', 'Audi A6 2.0',\n",
       "       'Audi A8', 'Audi Q3 2.0', 'Audi Q5 2.0', 'Audi Q7', 'BMW 3 Series',\n",
       "       'BMW 5 Series', 'BMW 7 Series', 'BMW X1', 'BMW X1 sDrive20d',\n",
       "       'BMW X1 xDrive20d', 'Chevrolet Beat', 'Chevrolet Beat...\n",
       "                                                                            array(['Audi', 'BMW', 'Chevrolet', 'Datsun', 'Fiat', 'Force', 'Ford',\n",
       "       'Hindustan', 'Honda', 'Hyundai', 'Jaguar', 'Jeep', 'Land',\n",
       "       'Mahindra', 'Maruti', 'Mercedes', 'Mini', 'Mitsubishi', 'Nissan',\n",
       "       'Renault', 'Skoda', 'Tata', 'Toyota', 'Volkswagen', 'Volvo'],\n",
       "      dtype=object),\n",
       "                                                                            array(['Diesel', 'LPG', 'Petrol'], dtype=object)]),\n",
       "                                                  ['name', 'company',\n",
       "                                                   'fuel_type'])])),\n",
       "                ('linearregression', LinearRegression())])"
      ]
     },
     "execution_count": 123,
     "metadata": {},
     "output_type": "execute_result"
    }
   ],
   "source": [
    "pipe.fit(X_train,y_train)"
   ]
  },
  {
   "cell_type": "code",
   "execution_count": 126,
   "id": "c4747c2c",
   "metadata": {
    "scrolled": true
   },
   "outputs": [
    {
     "data": {
      "text/plain": [
       "array([ 162282.3285061 ,  450022.9718257 ,  373329.00876882,\n",
       "        408812.53558879,  361780.11251407,  410384.71401186,\n",
       "        128410.28850137,  201261.59232818,  347763.87457902,\n",
       "        233511.48734171,  316582.02414998,  407067.20393115,\n",
       "        599254.29535578,  115538.56563521, 1890379.46076218,\n",
       "        311221.12190062,  754782.79024363,  222368.12448111,\n",
       "       1480690.37958992,  263271.82905783,  291595.06484581,\n",
       "        227874.53072188,  347649.37345786,  486286.42994676,\n",
       "        257290.54356195,  378926.87063836,  354139.20331301,\n",
       "        580291.64931196,  283146.16155935,  585735.68727061,\n",
       "        599408.87186935,  353500.43423297,  138038.64321192,\n",
       "        228905.04081231,  565504.72853612,  222622.97271972,\n",
       "        344309.39795368, 1004142.9755441 ,  414825.24023674,\n",
       "        584362.11515319,  182648.61495833,  542559.72695815,\n",
       "         35151.75081266,  433040.83478471,  318672.24997146,\n",
       "        227810.53569143,  451298.85508462,  -34362.78040154,\n",
       "        222631.80138887,  319872.68181185,  213827.7452528 ,\n",
       "       1157878.66888724,  265483.7584936 ,  359023.84964509,\n",
       "       1180673.96070248,  505740.23284999, 1105446.32533009,\n",
       "        247158.26412489,  400317.09649638,  249318.56673943,\n",
       "        283786.10020595,  191956.19270489,  267380.89511342,\n",
       "         47573.24214603,  330038.85579436,  555272.73144218,\n",
       "        216948.32098595,  323583.52644747,  836521.49925219,\n",
       "        244978.53615685,  396854.6677511 ,  454820.65541862,\n",
       "        153208.83196341,  244928.98547519,  526338.54727174,\n",
       "        212741.46372467,  283786.10020595,  624014.29277983,\n",
       "        352961.95205753,  233636.80147334,  587683.88699479,\n",
       "        472142.20811301,  537837.71130621,  156076.87301294,\n",
       "        858182.57867552,  265977.2369654 ,  673958.51711806,\n",
       "        867391.18283513,  156076.87301294,  403969.96380376,\n",
       "        113374.42185973,  580291.64931196,  189949.17410699,\n",
       "        252797.43349777,  227810.53569143,  316544.3650932 ,\n",
       "        361293.92083979,  395657.84058259,  243615.97281505,\n",
       "        568108.86854354,  243998.54455009,  558833.71631023,\n",
       "        237739.00116884,  266824.54526198,  198180.48921333,\n",
       "        346725.27447728,  768026.15233156,  415433.45363032,\n",
       "       1890379.46076218, 1890408.08604246,   30503.07787915,\n",
       "        487294.41455496,  284998.32586186,  386243.84189752,\n",
       "        601797.82178561,  532363.56411806,  270955.60371998,\n",
       "        452486.35187024,  150586.43269303,  260379.55285119,\n",
       "        248159.26418942,  204947.52440537,  315220.65275914,\n",
       "        161315.91296877,  275993.64220677,  478542.50571097,\n",
       "        228328.68361033,  410159.5041589 ,  410973.07235068,\n",
       "        558060.37573793,  570248.13170559,  342754.01243766,\n",
       "        327707.26441219,  529104.40128147,  224821.57020854,\n",
       "        308005.04967588,  498198.36195375,   11946.35981394,\n",
       "        103253.97605021,  262561.65805387,   62705.2676284 ,\n",
       "        545509.9498202 ,  813864.86009315,  512083.67676496,\n",
       "         44887.15438023,  239184.70349288,  224661.75485954,\n",
       "        327183.44308461,  640330.17351843,  697843.50529391,\n",
       "        220906.39387098,  275565.4369101 ,  567053.09055768,\n",
       "        352503.94757289,  585046.08365774,  184898.51473434,\n",
       "        243215.21889099,  698325.22668   ,  178259.87222891,\n",
       "        143554.76402836,  310517.58397646,  114724.08561771,\n",
       "        124794.93398871,  478050.45643488,  165586.16185503,\n",
       "        298143.41670939,  479517.19877988,  322468.4000285 ,\n",
       "        364110.85645378,  509217.58962353,  370318.63334467,\n",
       "        231671.21947966,  192913.85580015,  305112.18658927,\n",
       "        240986.70075423,  269986.80392985,  173887.75572374,\n",
       "        442496.45339537,  136619.68094288, 1498078.51160058,\n",
       "        411586.01742239,  378045.95626272,  472256.70923418,\n",
       "        282994.55624156,  195677.47914257,   82682.11083815,\n",
       "        373329.00876882,  526453.0483929 ,  394564.05821888,\n",
       "        472142.20811301,  260450.246283  ,  246360.93327219,\n",
       "        582641.56011339,  460258.30857796,  262985.54875377,\n",
       "        555272.73144218,  248217.39369161,  280733.98180957,\n",
       "        306176.33313995, 1216730.65751576,  558524.53454702,\n",
       "       1070721.94921849,  275564.9069734 ,  156076.87301294,\n",
       "        265554.60803493,  293498.28297694,  136591.78217707,\n",
       "        194482.29444043,  528245.64287277,  345208.5430965 ,\n",
       "        299300.81659979,  528188.3923122 , 1890408.08604246,\n",
       "        335777.37493401,  587683.88699479,    7516.23589832,\n",
       "         70951.84219331,  304408.31603586,  630563.97277841,\n",
       "        315571.10556334,  364005.64093058,  323583.52644747,\n",
       "         39162.76840278,  209809.36112159,   51753.99043516,\n",
       "        877913.67490919,  344309.39795368,  696951.21322609,\n",
       "        693876.93782242,  134623.34703827,  585678.87804652,\n",
       "         45854.68885402,  831347.84980208,  408178.13196164,\n",
       "        207295.92103995,  856293.31017639,  318672.24997146,\n",
       "         34510.61711973,   -9834.50659994,  365873.96568616,\n",
       "        511703.35268238,   85970.01423968,  533532.13743667,\n",
       "       1561975.28143187,  257680.89950202,  458543.45164961,\n",
       "         53059.26972093,  419311.08216075,  354202.97976135,\n",
       "       1557763.83789454,  330817.17179209,  601797.82178561,\n",
       "        357714.70694727,  949294.58302988,  275564.9069734 ,\n",
       "        390632.94829293,  342459.70547137,  281707.24133943,\n",
       "       1890408.08604246,  164887.66710312,  263057.45837583,\n",
       "        418892.04102238,  170127.78781465,  284416.09769775,\n",
       "        378926.87063836,   97494.12953751,  511167.66779568,\n",
       "        534849.05327504,  -42776.09526495])"
      ]
     },
     "execution_count": 126,
     "metadata": {},
     "output_type": "execute_result"
    }
   ],
   "source": [
    "y_pred = pipe.predict(X_test)\n",
    "y_pred"
   ]
  },
  {
   "cell_type": "code",
   "execution_count": 128,
   "id": "6a5459a3",
   "metadata": {},
   "outputs": [
    {
     "data": {
      "text/plain": [
       "0.6411827729533321"
      ]
     },
     "execution_count": 128,
     "metadata": {},
     "output_type": "execute_result"
    }
   ],
   "source": [
    "from sklearn.metrics import r2_score\n",
    "\n",
    "r2_score(y_test, y_pred)"
   ]
  },
  {
   "cell_type": "markdown",
   "id": "5454a039",
   "metadata": {},
   "source": [
    "# Finding the model with a random state of TrainTestSplit where the model was found to give good r2_score"
   ]
  },
  {
   "cell_type": "code",
   "execution_count": 143,
   "id": "995348fe",
   "metadata": {},
   "outputs": [],
   "source": [
    "scores=[]\n",
    "for i in range(1000):\n",
    "    X_train,X_test,y_train,y_test=train_test_split(X,y,test_size=0.2,random_state=i)\n",
    "    lr=LinearRegression()\n",
    "    pipe=make_pipeline(column_trans,lr)\n",
    "    pipe.fit(X_train,y_train)\n",
    "    y_pred=pipe.predict(X_test)\n",
    "    scores.append(r2_score(y_test,y_pred))"
   ]
  },
  {
   "cell_type": "code",
   "execution_count": 144,
   "id": "ca79f72e",
   "metadata": {},
   "outputs": [
    {
     "data": {
      "text/plain": [
       "661"
      ]
     },
     "execution_count": 144,
     "metadata": {},
     "output_type": "execute_result"
    }
   ],
   "source": [
    "np.argmax(scores)"
   ]
  },
  {
   "cell_type": "code",
   "execution_count": 145,
   "id": "7e790ea5",
   "metadata": {},
   "outputs": [
    {
     "data": {
      "text/plain": [
       "0.8900224346636179"
      ]
     },
     "execution_count": 145,
     "metadata": {},
     "output_type": "execute_result"
    }
   ],
   "source": [
    "scores[np.argmax(scores)]"
   ]
  },
  {
   "cell_type": "markdown",
   "id": "da973409",
   "metadata": {},
   "source": [
    "# best model accuracy is found at certail random state"
   ]
  },
  {
   "cell_type": "code",
   "execution_count": 146,
   "id": "1ced663d",
   "metadata": {},
   "outputs": [
    {
     "data": {
      "text/plain": [
       "0.8900224346636179"
      ]
     },
     "execution_count": 146,
     "metadata": {},
     "output_type": "execute_result"
    }
   ],
   "source": [
    "X_train,X_test,y_train,y_test=train_test_split(X,y,test_size=0.2,random_state=np.argmax(scores))\n",
    "lr=LinearRegression()\n",
    "pipe=make_pipeline(column_trans,lr)\n",
    "pipe.fit(X_train,y_train)\n",
    "y_pred=pipe.predict(X_test)\n",
    "r2_score(y_test,y_pred)"
   ]
  },
  {
   "cell_type": "code",
   "execution_count": 147,
   "id": "b59b15b2",
   "metadata": {},
   "outputs": [],
   "source": [
    "# Save the model\n",
    "import pickle"
   ]
  },
  {
   "cell_type": "code",
   "execution_count": 148,
   "id": "61b67470",
   "metadata": {},
   "outputs": [],
   "source": [
    "pickle.dump(pipe,open('linreg_model.pkl', 'wb'))"
   ]
  },
  {
   "cell_type": "code",
   "execution_count": 149,
   "id": "6a11faef",
   "metadata": {},
   "outputs": [
    {
     "data": {
      "text/plain": [
       "array([401361.51580717])"
      ]
     },
     "execution_count": 149,
     "metadata": {},
     "output_type": "execute_result"
    }
   ],
   "source": [
    "# When new data comes?\n",
    "pipe.predict(pd.DataFrame(columns=['name','company','year','kms_driven','fuel_type'],data=np.array(['Maruti Suzuki Swift','Maruti',2019,100,'Petrol']).reshape(1,5)))"
   ]
  },
  {
   "cell_type": "code",
   "execution_count": null,
   "id": "ba3e496e",
   "metadata": {},
   "outputs": [],
   "source": []
  }
 ],
 "metadata": {
  "kernelspec": {
   "display_name": "Python 3 (ipykernel)",
   "language": "python",
   "name": "python3"
  },
  "language_info": {
   "codemirror_mode": {
    "name": "ipython",
    "version": 3
   },
   "file_extension": ".py",
   "mimetype": "text/x-python",
   "name": "python",
   "nbconvert_exporter": "python",
   "pygments_lexer": "ipython3",
   "version": "3.9.13"
  }
 },
 "nbformat": 4,
 "nbformat_minor": 5
}
